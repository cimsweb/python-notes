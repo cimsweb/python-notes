{
 "cells": [
  {
   "cell_type": "markdown",
   "id": "ae1ed7ed-c629-4c9e-928c-637841731d5f",
   "metadata": {},
   "source": [
    "<h1>Отправка сообщений с вложениями в Телеграм через API </h1>"
   ]
  },
  {
   "cell_type": "markdown",
   "id": "f0dab4d9-5a43-4be8-b10f-acaac000b19c",
   "metadata": {},
   "source": [
    "<p>Все что вам нужно это библиотека requests и свой TOKEN </p>\n",
    "<p>Получите \"TOKEN\" от BotFather в Telegram</p>"
   ]
  },
  {
   "cell_type": "code",
   "execution_count": 9,
   "id": "c44fa7a9-c867-4bf9-83f0-da0ffc94fa3c",
   "metadata": {},
   "outputs": [],
   "source": [
    "import requests\n",
    "\n",
    "#TOKEN = 'your_bot_token'"
   ]
  },
  {
   "cell_type": "markdown",
   "id": "3c7832d2-936e-440b-b3f4-275be6728bf7",
   "metadata": {},
   "source": [
    "<p>Для отправки сообщений от бота в чат, необходим идентификатор этого чата. Бота сначала надо добавить в администраторы чата. Затем получить идентификатор чата</p>"
   ]
  },
  {
   "cell_type": "raw",
   "id": "141c2596-2ee8-494c-9f2c-ec979ba3f08d",
   "metadata": {},
   "source": [
    "get_chat_id_url = f'https://api.telegram.org/bot{TOKEN}/getUpdates'\n",
    "response=requests.get(get_chat_id_url)\n",
    "response.json()"
   ]
  },
  {
   "cell_type": "markdown",
   "id": "289e3324-1054-48c6-ac4e-65d0a73b4201",
   "metadata": {},
   "source": [
    "<p>Запоминаем CHAT_ID </p>"
   ]
  },
  {
   "cell_type": "code",
   "execution_count": 8,
   "id": "e518dd97-7cf5-4668-8558-438eef3d3a4b",
   "metadata": {},
   "outputs": [],
   "source": [
    "#CHAT_ID = 'your_chat_id'"
   ]
  },
  {
   "cell_type": "markdown",
   "id": "fdf1d0e3-0360-414f-a835-15f961bbb9dc",
   "metadata": {},
   "source": [
    "<p>Телеграм поддерживает форматирование сообщений</p>"
   ]
  },
  {
   "cell_type": "code",
   "execution_count": 7,
   "id": "1af2ce6b-acde-4f2e-9d70-90457a3e0809",
   "metadata": {},
   "outputs": [],
   "source": [
    "text_to_tg_test = '''<b>bold</b>, <strong>bold</strong>\n",
    "<i>italic</i>, <em>italic</em>\n",
    "<u>underline</u>, <ins>underline</ins>\n",
    "<s>strikethrough</s>, <strike>strikethrough</strike>, <del>strikethrough</del>\n",
    "<span class=\"tg-spoiler\">spoiler</span>, <tg-spoiler>spoiler</tg-spoiler>\n",
    "<b>bold <i>italic bold <s>italic bold strikethrough <span class=\"tg-spoiler\">italic bold strikethrough spoiler</span></s> <u>underline italic bold</u></i> bold</b>\n",
    "<a href=\"http://www.example.com/\">inline URL</a>\n",
    "<a href=\"tg://user?id=123456789\">inline mention of a user</a>\n",
    "<tg-emoji emoji-id=\"5368324170671202286\">👍</tg-emoji>\n",
    "<code>inline fixed-width code</code>\n",
    "<pre>pre-formatted fixed-width code block</pre>\n",
    "<pre><code class=\"language-python\">pre-formatted fixed-width code block written in the Python programming language</code></pre>\n",
    "<blockquote>Block quotation started\\nBlock quotation continued\\nThe last line of the block quotation</blockquote>\n",
    "<blockquote expandable>Expandable block quotation started\\nExpandable block quotation continued\\nExpandable block quotation continued\\nHidden by default part of the block quotation started\\nExpandable block quotation continued\\nThe last line of the block quotation</blockquote>\n",
    "\n",
    "'''"
   ]
  },
  {
   "cell_type": "raw",
   "id": "54d587e4-7ef6-4202-9ab9-df7556583085",
   "metadata": {},
   "source": [
    "telega_url = f'https://api.telegram.org/bot{TOKEN}/sendMessage?chat_id={CHAT_ID}&parse_mode=html&text={text_to_tg_test}'\n",
    "requests.get(telega_url)\n"
   ]
  },
  {
   "cell_type": "markdown",
   "id": "efd503bd-697d-4cec-b8e8-c5bea2ad9fca",
   "metadata": {},
   "source": [
    "<p>И есть возможность отправить вложенные файлы</p>"
   ]
  },
  {
   "cell_type": "raw",
   "id": "36ba3a51-a7b0-497b-a5bc-00a9cc82cdbb",
   "metadata": {},
   "source": [
    "open('output.txt', 'w').write(\"И есть возможность отправить вложенные файлы\")\n",
    "files = {'file': open('output.txt', 'rb')}\n",
    "URL = f'https://api.telegram.org/bot{TOKEN}/sendDocument'\n",
    "\n",
    "def send_document(file_path):\n",
    "    document = open(file_path, 'rb')\n",
    "    files = {'document': document}\n",
    "    data = {'chat_id': CHAT_ID}\n",
    "    response = requests.post(URL, files=files, data=data)\n",
    "    return response.json()\n",
    "\n",
    "send_document('output.txt')"
   ]
  },
  {
   "cell_type": "code",
   "execution_count": null,
   "id": "8dac40ee-d6da-49dc-8ec8-7716cfcc164d",
   "metadata": {},
   "outputs": [],
   "source": []
  },
  {
   "cell_type": "code",
   "execution_count": null,
   "id": "64f00a54-59c7-4f1c-9cfa-b1bb583a0664",
   "metadata": {},
   "outputs": [],
   "source": []
  },
  {
   "cell_type": "code",
   "execution_count": null,
   "id": "13a0b38a-330f-430b-a738-3548493945ca",
   "metadata": {},
   "outputs": [],
   "source": []
  },
  {
   "cell_type": "code",
   "execution_count": null,
   "id": "d23c0733-aa1f-4d2a-82ff-14563cbb0dd7",
   "metadata": {},
   "outputs": [],
   "source": []
  },
  {
   "cell_type": "code",
   "execution_count": null,
   "id": "c27652e9-ed39-4189-baa2-3e34d8693baf",
   "metadata": {},
   "outputs": [],
   "source": []
  },
  {
   "cell_type": "code",
   "execution_count": null,
   "id": "ef9a0efa-33ed-4706-ace7-e4df8efe1819",
   "metadata": {},
   "outputs": [],
   "source": []
  },
  {
   "cell_type": "code",
   "execution_count": null,
   "id": "16d53600-cc81-4b95-b2ca-c7b883fb4343",
   "metadata": {},
   "outputs": [],
   "source": []
  },
  {
   "cell_type": "code",
   "execution_count": null,
   "id": "0efce5d7-9a5c-4430-8a53-7b780c887815",
   "metadata": {},
   "outputs": [],
   "source": []
  }
 ],
 "metadata": {
  "kernelspec": {
   "display_name": "Python 3 (ipykernel)",
   "language": "python",
   "name": "python3"
  },
  "language_info": {
   "codemirror_mode": {
    "name": "ipython",
    "version": 3
   },
   "file_extension": ".py",
   "mimetype": "text/x-python",
   "name": "python",
   "nbconvert_exporter": "python",
   "pygments_lexer": "ipython3",
   "version": "3.9.7"
  }
 },
 "nbformat": 4,
 "nbformat_minor": 5
}
