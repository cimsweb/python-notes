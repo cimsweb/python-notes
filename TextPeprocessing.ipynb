{
 "cells": [
  {
   "cell_type": "code",
   "execution_count": 2,
   "metadata": {},
   "outputs": [],
   "source": [
    "import re\n",
    "WORD = re.compile(r'\\w+')\n",
    "def regTokenize(text):\n",
    "    words = WORD.findall(text)\n",
    "    return words"
   ]
  },
  {
   "cell_type": "code",
   "execution_count": 3,
   "metadata": {},
   "outputs": [],
   "source": [
    "import nltk\n",
    "def nltkTokenize(text):\n",
    "    words = nltk.word_tokenize(text)\n",
    "    return words"
   ]
  },
  {
   "cell_type": "code",
   "execution_count": 4,
   "metadata": {},
   "outputs": [
    {
     "data": {
      "text/plain": [
       "['string', 'With', 'Punctuation', 'd', 'Hdshhdsh', 'sdssd']"
      ]
     },
     "execution_count": 4,
     "metadata": {},
     "output_type": "execute_result"
    }
   ],
   "source": [
    "regTokenize(s)"
   ]
  },
  {
   "cell_type": "markdown",
   "metadata": {},
   "source": [
    "Best way to strip punctuation from a string"
   ]
  },
  {
   "cell_type": "code",
   "execution_count": 5,
   "metadata": {},
   "outputs": [],
   "source": [
    "import re, string, timeit\n",
    "import dis\n",
    "import time\n",
    "s = \"\"\"string. With. Punctuation<d>Hdshhdsh\n",
    "sdssd\"\"\"\n",
    "\n",
    "\n",
    "def test_set(s):\n",
    "    exclude = set(string.punctuation)\n",
    "    return ''.join(ch for ch in s if ch not in exclude)\n",
    "\n",
    "\n",
    "def test_set2(s):\n",
    "    _punctuation = set(string.punctuation)\n",
    "    for punct in set(s).intersection(_punctuation):\n",
    "        s = s.replace(punct, ' ')\n",
    "    return ' '.join(s.split())\n",
    "\n",
    "\n",
    "def test_re(s):  # From Vinko's solution, with fix.\n",
    "    regex = re.compile('[%s]' % re.escape(string.punctuation))\n",
    "    return regex.sub('', s)\n",
    "\n",
    "\n",
    "def test_trans(s):\n",
    "    table = str.maketrans({key: None for key in string.punctuation})\n",
    "    return s.translate(table)\n",
    "\n",
    "\n",
    "def test_trans2(s):\n",
    "    table = str.maketrans('', '', string.punctuation)\n",
    "    return(s.translate(table))\n",
    "\n",
    "\n",
    "def test_repl(s):  # From S.Lott's solution\n",
    "    for c in string.punctuation:\n",
    "        s=s.replace(c,\"\")\n",
    "    return s"
   ]
  },
  {
   "cell_type": "code",
   "execution_count": 8,
   "metadata": {},
   "outputs": [
    {
     "name": "stdout",
     "output_type": "stream",
     "text": [
      " 36           0 SETUP_LOOP              26 (to 28)\n",
      "              2 LOAD_GLOBAL              0 (string)\n",
      "              4 LOAD_ATTR                1 (punctuation)\n",
      "              6 GET_ITER\n",
      "        >>    8 FOR_ITER                16 (to 26)\n",
      "             10 STORE_FAST               1 (c)\n",
      "\n",
      " 37          12 LOAD_FAST                0 (s)\n",
      "             14 LOAD_METHOD              2 (replace)\n",
      "             16 LOAD_FAST                1 (c)\n",
      "             18 LOAD_CONST               1 ('')\n",
      "             20 CALL_METHOD              2\n",
      "             22 STORE_FAST               0 (s)\n",
      "             24 JUMP_ABSOLUTE            8\n",
      "        >>   26 POP_BLOCK\n",
      "\n",
      " 38     >>   28 LOAD_FAST                0 (s)\n",
      "             30 RETURN_VALUE\n"
     ]
    }
   ],
   "source": [
    "dis.dis(test_repl)"
   ]
  },
  {
   "cell_type": "code",
   "execution_count": 12,
   "metadata": {},
   "outputs": [
    {
     "name": "stdout",
     "output_type": "stream",
     "text": [
      "Name:              test_trans2\n",
      "Filename:          <ipython-input-5-4df448a6ce1f>\n",
      "Argument count:    1\n",
      "Kw-only arguments: 0\n",
      "Number of locals:  2\n",
      "Stack size:        5\n",
      "Flags:             OPTIMIZED, NEWLOCALS, NOFREE\n",
      "Constants:\n",
      "   0: None\n",
      "   1: ''\n",
      "Names:\n",
      "   0: str\n",
      "   1: maketrans\n",
      "   2: string\n",
      "   3: punctuation\n",
      "   4: translate\n",
      "Variable names:\n",
      "   0: s\n",
      "   1: table\n"
     ]
    }
   ],
   "source": [
    "print (dis.code_info(test_trans2))"
   ]
  },
  {
   "cell_type": "code",
   "execution_count": 6,
   "metadata": {},
   "outputs": [],
   "source": [
    "import string\n",
    "f = lambda x: ''.join([i for i in x if i not in string.punctuation])"
   ]
  },
  {
   "cell_type": "code",
   "execution_count": 7,
   "metadata": {},
   "outputs": [
    {
     "name": "stdout",
     "output_type": "stream",
     "text": [
      "Time Taken: 00:00:00\n"
     ]
    }
   ],
   "source": [
    "import time\n",
    "start_time = time.time()\n",
    "for x in range(10000):\n",
    "    test_trans2(s)\n",
    "seconds = time.time() - start_time\n",
    "print('Time Taken:', time.strftime(\"%H:%M:%S\",time.gmtime(seconds)))"
   ]
  },
  {
   "cell_type": "code",
   "execution_count": 30,
   "metadata": {},
   "outputs": [
    {
     "name": "stdout",
     "output_type": "stream",
     "text": [
      "test_repl: 3.402801275253296\n",
      "test_trans2: 1.9294891357421875\n",
      "test_trans: 3.5298969745635986\n",
      "test_re: 3.343724012374878\n",
      "test_set2: 1.796449899673462\n",
      "test_set: 2.5164899826049805\n",
      "nltkTokenize: 180.3852379322052\n",
      "regTokenize: 1.0500450134277344\n"
     ]
    }
   ],
   "source": [
    "\n",
    "start_time = time.time()\n",
    "for x in range(1000000):\n",
    "    test_repl(s)\n",
    "seconds = time.time() - start_time\n",
    "print('test_repl:', seconds)\n",
    "\n",
    "\n",
    "start_time = time.time()\n",
    "for x in range(1000000):\n",
    "    test_trans2(s)\n",
    "seconds = time.time() - start_time\n",
    "print('test_trans2:', seconds)\n",
    "\n",
    "\n",
    "start_time = time.time()\n",
    "for x in range(1000000):\n",
    "    test_trans(s)\n",
    "seconds = time.time() - start_time\n",
    "print('test_trans:', seconds)\n",
    "\n",
    "start_time = time.time()\n",
    "for x in range(1000000):\n",
    "    test_re(s)\n",
    "seconds = time.time() - start_time\n",
    "print('test_re:', seconds)\n",
    "\n",
    "start_time = time.time()\n",
    "for x in range(1000000):\n",
    "    test_set2(s)\n",
    "seconds = time.time() - start_time\n",
    "print('test_set2:', seconds)\n",
    "\n",
    "\n",
    "start_time = time.time()\n",
    "for x in range(1000000):\n",
    "    test_set(s)\n",
    "seconds = time.time() - start_time\n",
    "print('test_set:', seconds)\n",
    "\n",
    "start_time = time.time()\n",
    "for x in range(1000000):\n",
    "    nltkTokenize(s)\n",
    "seconds = time.time() - start_time\n",
    "print('nltkTokenize:', seconds)\n",
    "\n",
    "\n",
    "start_time = time.time()\n",
    "for x in range(1000000):\n",
    "    regTokenize(s)\n",
    "seconds = time.time() - start_time\n",
    "print('regTokenize:', seconds)"
   ]
  },
  {
   "cell_type": "code",
   "execution_count": 6,
   "metadata": {},
   "outputs": [
    {
     "data": {
      "text/plain": [
       "['string', 'With', 'Punctuation', 'd', 'Hdshhdsh', 'sdssd']"
      ]
     },
     "execution_count": 6,
     "metadata": {},
     "output_type": "execute_result"
    }
   ],
   "source": []
  },
  {
   "cell_type": "code",
   "execution_count": 19,
   "metadata": {},
   "outputs": [
    {
     "data": {
      "text/plain": [
       "0.9459332510000422"
      ]
     },
     "execution_count": 19,
     "metadata": {},
     "output_type": "execute_result"
    }
   ],
   "source": [
    "timeit.Timer('for i in range(10): oct(i)', 'gc.enable()').timeit()"
   ]
  },
  {
   "cell_type": "code",
   "execution_count": 23,
   "metadata": {},
   "outputs": [],
   "source": [
    "rr='''def test_repl(s):  # From S.Lott's solution\n",
    "    for c in string.punctuation:\n",
    "        s=s.replace(c,\"\")\n",
    "    return s'''"
   ]
  },
  {
   "cell_type": "code",
   "execution_count": 26,
   "metadata": {},
   "outputs": [
    {
     "data": {
      "text/plain": [
       "0.005604737000112436"
      ]
     },
     "execution_count": 26,
     "metadata": {},
     "output_type": "execute_result"
    }
   ],
   "source": [
    "timeit.timeit(stmt=rr, number=100000)"
   ]
  },
  {
   "cell_type": "code",
   "execution_count": null,
   "metadata": {},
   "outputs": [],
   "source": []
  },
  {
   "cell_type": "code",
   "execution_count": 1,
   "metadata": {},
   "outputs": [],
   "source": [
    "from collections import Counter"
   ]
  },
  {
   "cell_type": "code",
   "execution_count": 2,
   "metadata": {},
   "outputs": [
    {
     "name": "stdout",
     "output_type": "stream",
     "text": [
      "[('u', 3), ('s', 2)]\n",
      "['s', 's', 'u', 'u', 'u', 'p', 'e', 'r', 'f', 'l', 'o']\n",
      "3\n"
     ]
    }
   ],
   "source": [
    "counter = Counter('superfluous')\n",
    "print(counter.most_common(2))\n",
    "print(list(counter.elements()))\n",
    "print(counter['u']) # 3"
   ]
  },
  {
   "cell_type": "code",
   "execution_count": null,
   "metadata": {},
   "outputs": [],
   "source": []
  }
 ],
 "metadata": {
  "kernelspec": {
   "display_name": "Python 3",
   "language": "python",
   "name": "python3"
  },
  "language_info": {
   "codemirror_mode": {
    "name": "ipython",
    "version": 3
   },
   "file_extension": ".py",
   "mimetype": "text/x-python",
   "name": "python",
   "nbconvert_exporter": "python",
   "pygments_lexer": "ipython3",
   "version": "3.7.7"
  }
 },
 "nbformat": 4,
 "nbformat_minor": 4
}
