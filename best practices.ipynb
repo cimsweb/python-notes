{
 "cells": [
  {
   "cell_type": "code",
   "execution_count": 6,
   "metadata": {
    "slideshow": {
     "slide_type": "notes"
    }
   },
   "outputs": [],
   "source": [
    "import time\n",
    "import sys\n",
    "import dis"
   ]
  },
  {
   "cell_type": "code",
   "execution_count": 7,
   "metadata": {
    "slideshow": {
     "slide_type": "slide"
    }
   },
   "outputs": [
    {
     "name": "stdout",
     "output_type": "stream",
     "text": [
      "1: 0.07523798942565918\n"
     ]
    }
   ],
   "source": [
    "start_time = time.time()\n",
    "for x in range(1000000):\n",
    "    x+=1\n",
    "seconds = time.time() - start_time\n",
    "print('1:', seconds)"
   ]
  },
  {
   "cell_type": "code",
   "execution_count": 70,
   "metadata": {
    "slideshow": {
     "slide_type": "subslide"
    }
   },
   "outputs": [
    {
     "name": "stdout",
     "output_type": "stream",
     "text": [
      "1: 8.392333984375e-05 [1, 2, 0, 0]\n"
     ]
    }
   ],
   "source": [
    "data = [ 1, 2, -4, -3]\n",
    "start_time = time.time()\n",
    "for i in range(len(data)):\n",
    "    if data[i] < 0:\n",
    "        data[i] = 0\n",
    "seconds = time.time() - start_time\n",
    "print('1:', seconds, data)"
   ]
  },
  {
   "cell_type": "code",
   "execution_count": 71,
   "metadata": {
    "slideshow": {
     "slide_type": "slide"
    }
   },
   "outputs": [
    {
     "name": "stdout",
     "output_type": "stream",
     "text": [
      "1: 8.225440979003906e-05 [1, 2, 0, 0]\n"
     ]
    }
   ],
   "source": [
    "data = [ 1, 2, -4, -3]\n",
    "start_time = time.time()\n",
    "for idx, num in enumerate(data):\n",
    "    if num < 0:\n",
    "        data[idx] = 0\n",
    "seconds = time.time() - start_time\n",
    "print('1:', seconds, data)"
   ]
  },
  {
   "cell_type": "code",
   "execution_count": 72,
   "metadata": {},
   "outputs": [
    {
     "name": "stdout",
     "output_type": "stream",
     "text": [
      "[0, 1, 4, 9, 16, 25, 36, 49, 64, 81]\n",
      "[0, 1, 4, 9, 16, 25, 36, 49, 64, 81]\n"
     ]
    }
   ],
   "source": [
    "squares = []\n",
    "for i in range(10):\n",
    "    squares.append(i*i)\n",
    "    \n",
    "print (squares)\n",
    "#better \n",
    "squares = [i*i for i in range(10)]\n",
    "print (squares)"
   ]
  },
  {
   "cell_type": "code",
   "execution_count": 74,
   "metadata": {},
   "outputs": [
    {
     "name": "stdout",
     "output_type": "stream",
     "text": [
      "[1, 3, 5, 9, 10]\n",
      "[{'name': 'Ben', 'age': 18}, {'name': 'Lisa', 'age': 12}, {'name': 'Max', 'age': 6}]\n"
     ]
    }
   ],
   "source": [
    "data = [3, 5, 1, 10, 9]\n",
    "sorted_data = sorted(data, reverse=False)\n",
    "print (sorted_data)\n",
    "\n",
    "data = [{\"name\": \"Max\", \"age\": 6},\n",
    "       {\"name\": \"Lisa\", \"age\": 12},\n",
    "       {\"name\": \"Ben\", \"age\": 18}]\n",
    "sorted_data = sorted(data, key = lambda x: x[\"age\"], reverse=True)\n",
    "print (sorted_data)"
   ]
  },
  {
   "cell_type": "code",
   "execution_count": 75,
   "metadata": {},
   "outputs": [
    {
     "name": "stdout",
     "output_type": "stream",
     "text": [
      "{1, 2, 3, 4, 5, 6, 7}\n"
     ]
    }
   ],
   "source": [
    "my_list = [1,2,3,3,3,4,4,5,5,5,6,6,6,6,7]\n",
    "my_set=set(my_list)\n",
    "print (my_set)"
   ]
  },
  {
   "cell_type": "code",
   "execution_count": 79,
   "metadata": {},
   "outputs": [
    {
     "name": "stdout",
     "output_type": "stream",
     "text": [
      "49995000\n",
      "87632 bytes\n",
      "49995000\n",
      "128 bytes\n"
     ]
    }
   ],
   "source": [
    "my_list = [i for i in range(10000)]\n",
    "print (sum(my_list))\n",
    "print (sys.getsizeof(my_list), \"bytes\")\n",
    "\n",
    "#better\n",
    "my_gen = (i for i in range(10000))\n",
    "print (sum(my_gen))\n",
    "print (sys.getsizeof(my_gen), \"bytes\")"
   ]
  },
  {
   "cell_type": "code",
   "execution_count": 80,
   "metadata": {},
   "outputs": [
    {
     "name": "stdout",
     "output_type": "stream",
     "text": [
      "0\n",
      "0\n",
      "{'item': 'footbal', 'price': 10.0, 'count': 0}\n"
     ]
    }
   ],
   "source": [
    "my_dict = {\"item\": \"footbal\", \"price\": 10.00}\n",
    "count = my_dict.get(\"count\", 0)\n",
    "print (count)\n",
    "\n",
    "count = my_dict.setdefault(\"count\", 0)\n",
    "print (count)\n",
    "\n",
    "print (my_dict)"
   ]
  },
  {
   "cell_type": "code",
   "execution_count": 81,
   "metadata": {},
   "outputs": [
    {
     "name": "stdout",
     "output_type": "stream",
     "text": [
      "Counter({6: 4, 5: 4, 4: 3, 3: 3, 10: 2, 9: 1, 33: 1})\n",
      "4\n",
      "[(6, 4)]\n",
      "4\n"
     ]
    }
   ],
   "source": [
    "from collections import Counter\n",
    "\n",
    "my_list = [10,10,9,6,6,6,6,5,5,5,5,4,4,4,3,3,3,33]\n",
    "counter = Counter(my_list)\n",
    "\n",
    "print (counter)\n",
    "print (counter[6])\n",
    "\n",
    "most_common = counter.most_common(1)\n",
    "print (most_common)\n",
    "\n",
    "print (most_common[0][1])"
   ]
  },
  {
   "cell_type": "code",
   "execution_count": 82,
   "metadata": {},
   "outputs": [],
   "source": [
    "from typing import Optional"
   ]
  },
  {
   "cell_type": "code",
   "execution_count": 83,
   "metadata": {},
   "outputs": [
    {
     "name": "stdout",
     "output_type": "stream",
     "text": [
      "Hello Serg!\n",
      "10 squared is 100\n"
     ]
    }
   ],
   "source": [
    "name = \"Serg\"\n",
    "my_string = f\"Hello {name}!\"\n",
    "print (my_string)\n",
    "\n",
    "\n",
    "i =10 \n",
    "print (f\"{i} squared is {i*i}\")"
   ]
  },
  {
   "cell_type": "code",
   "execution_count": 84,
   "metadata": {},
   "outputs": [
    {
     "name": "stdout",
     "output_type": "stream",
     "text": [
      "{'name': 'Serg', 'age': 30, 'city': 'Moscow'}\n"
     ]
    }
   ],
   "source": [
    "d1 = {\"name\": \"Serg\", \"age\": 30}\n",
    "d2 = {\"name\": \"Serg\", \"city\": \"Moscow\"}\n",
    "merge_dict = {**d1, **d2}\n",
    "\n",
    "print (merge_dict)"
   ]
  },
  {
   "cell_type": "code",
   "execution_count": 85,
   "metadata": {},
   "outputs": [
    {
     "name": "stdout",
     "output_type": "stream",
     "text": [
      "[[1 2 3]\n",
      " [2 4 6]\n",
      " [3 6 9]]\n",
      "[[1 4 9]\n",
      " [2 2 0]\n",
      " [3 4 3]]\n",
      "[[1 2 3]\n",
      " [4 2 0]\n",
      " [9 6 3]]\n"
     ]
    }
   ],
   "source": [
    "import numpy as np\n",
    "vector_row = np.array([1, 2, 3])\n",
    "vector_column = np.array([[1],\n",
    "                          [2],\n",
    "                          [3]])\n",
    "matrix = np.array([[1, 2, 3],\n",
    "                          [2, 1, 0],\n",
    "                          [3, 2, 1]])\n",
    "v_v = vector_row * vector_column\n",
    "print (v_v)\n",
    "v_m = vector_row * matrix\n",
    "print (v_m)\n",
    "v_c_m = vector_column * matrix\n",
    "print (v_c_m)"
   ]
  },
  {
   "cell_type": "code",
   "execution_count": 86,
   "metadata": {},
   "outputs": [
    {
     "data": {
      "text/plain": [
       "1600868371"
      ]
     },
     "execution_count": 86,
     "metadata": {},
     "output_type": "execute_result"
    }
   ],
   "source": [
    "int(time.time())"
   ]
  },
  {
   "cell_type": "code",
   "execution_count": 3,
   "metadata": {},
   "outputs": [],
   "source": [
    "#https://spacy.io/"
   ]
  },
  {
   "cell_type": "code",
   "execution_count": 87,
   "metadata": {},
   "outputs": [],
   "source": [
    "#https://prodi.gy/docs\n",
    "#http://pythontutor.com/live.html#mode=edit"
   ]
  },
  {
   "cell_type": "markdown",
   "metadata": {},
   "source": [
    "<h2>Python к вершинам местерства</h2>"
   ]
  },
  {
   "cell_type": "code",
   "execution_count": 90,
   "metadata": {},
   "outputs": [
    {
     "name": "stdout",
     "output_type": "stream",
     "text": [
      "City(name='Tokyo', country='JP', population=36.933, coordinates=(35.689722, 139.691667)) \n",
      " 36.933 (35.689722, 139.691667)\n"
     ]
    }
   ],
   "source": [
    "#именованные кортежи Data Class\n",
    "from collections import namedtuple\n",
    "City = namedtuple('City', 'name country population coordinates')\n",
    "tokyo = City('Tokyo', 'JP', 36.933, (35.689722, 139.691667))\n",
    "print (tokyo, '\\n', tokyo.population, tokyo.coordinates)"
   ]
  },
  {
   "cell_type": "raw",
   "metadata": {},
   "source": [
    "#головоломка присваивания A += \n",
    "t = (1, 2, [30, 40])\n",
    "t[2] += [50, 60]\n"
   ]
  },
  {
   "cell_type": "code",
   "execution_count": 92,
   "metadata": {},
   "outputs": [
    {
     "data": {
      "text/plain": [
       "(1, 2, [30, 40, 50, 60])"
      ]
     },
     "execution_count": 92,
     "metadata": {},
     "output_type": "execute_result"
    }
   ],
   "source": [
    "t"
   ]
  },
  {
   "cell_type": "code",
   "execution_count": 20,
   "metadata": {},
   "outputs": [],
   "source": [
    "#perf_counter"
   ]
  },
  {
   "cell_type": "raw",
   "metadata": {},
   "source": [
    "#пересчет количества вхождений\n",
    "found = 0 \n",
    "for n in needles:\n",
    "    if n in haystack:\n",
    "        found += 1\n",
    "        \n",
    "\n",
    "found = len(set(needles) & set(haystack))\n",
    "#или \n",
    "found = len(set(needles).intersection(haystack))\n",
    "#dict & set = 0.0003 list = 97.9 - 10 0000 000"
   ]
  },
  {
   "cell_type": "code",
   "execution_count": 94,
   "metadata": {},
   "outputs": [
    {
     "data": {
      "text/plain": [
       "['fig', 'apple', 'cherry', 'banana', 'raspberry', 'strawberry']"
      ]
     },
     "execution_count": 94,
     "metadata": {},
     "output_type": "execute_result"
    }
   ],
   "source": [
    "#функции высшего порядка\n",
    "fruits = ['strawberry', 'fig', 'apple', 'cherry', 'raspberry', 'banana']\n",
    "sorted(fruits, key=len)"
   ]
  },
  {
   "cell_type": "code",
   "execution_count": 95,
   "metadata": {},
   "outputs": [
    {
     "name": "stdout",
     "output_type": "stream",
     "text": [
      "[1, 1, 2, 6, 24, 120]\n",
      "[1, 1, 2, 6, 24, 120]\n",
      "[1, 6, 120]\n",
      "[1, 6, 120]\n",
      "4950\n",
      "4950\n"
     ]
    }
   ],
   "source": [
    "#альтернативы функциям map filter reduce\n",
    "def factorial(n):\n",
    "    '''returns n!'''\n",
    "    return 1 if n < 2 else n*factorial(n-1)\n",
    "fact = factorial\n",
    "print (list(map(fact, range(6))))\n",
    "print ([fact(n) for n in range(6)])\n",
    "print (list(map(factorial, filter(lambda n: n % 2, range(6)))))\n",
    "print ([factorial(n) for n in range(6) if n % 2])\n",
    "\n",
    "from functools import reduce\n",
    "from operator import add\n",
    "print (reduce(add, range(100)))\n",
    "print (sum(range(100)))"
   ]
  },
  {
   "cell_type": "code",
   "execution_count": 96,
   "metadata": {},
   "outputs": [
    {
     "name": "stdout",
     "output_type": "stream",
     "text": [
      "10.0\n",
      "10.5\n",
      "13.666666666666666\n"
     ]
    }
   ],
   "source": [
    "#замыкания\n",
    "def make_averager():\n",
    "    series = []\n",
    "    def averager(new_value):\n",
    "        series.append(new_value)\n",
    "        total = sum(series)\n",
    "        return total/len(series)\n",
    "    return averager\n",
    "\n",
    "avg = make_averager()\n",
    "print (avg(10))\n",
    "print (avg(11))\n",
    "print (avg(20))\n",
    "\n"
   ]
  },
  {
   "cell_type": "code",
   "execution_count": 97,
   "metadata": {},
   "outputs": [
    {
     "name": "stdout",
     "output_type": "stream",
     "text": [
      "10.0\n",
      "10.5\n",
      "13.666666666666666\n"
     ]
    }
   ],
   "source": [
    "#вычисление накопительного среднего без хранения всей истории\n",
    "def make_averager():\n",
    "    count = 0\n",
    "    total = 0\n",
    "    def averager(new_value):\n",
    "        nonlocal count, total\n",
    "        count += 1\n",
    "        total += new_value\n",
    "        return total/count\n",
    "    return averager\n",
    "\n",
    "avg = make_averager()\n",
    "print (avg(10))\n",
    "print (avg(11))\n",
    "print (avg(20))"
   ]
  },
  {
   "cell_type": "code",
   "execution_count": 98,
   "metadata": {},
   "outputs": [
    {
     "name": "stdout",
     "output_type": "stream",
     "text": [
      "******************** Calling snooze(.123)\n",
      "[0.12693593s] snooze(0.123) -> None\n",
      "******************** Calling factorial(6)\n",
      "[0.00000110s] factorial(1) -> 1\n",
      "[0.00067163s] factorial(2) -> 2\n",
      "[0.00070361s] factorial(3) -> 6\n",
      "[0.00072267s] factorial(4) -> 24\n",
      "[0.00073986s] factorial(5) -> 120\n",
      "[0.00075920s] factorial(6) -> 720\n",
      "6! = 720\n"
     ]
    }
   ],
   "source": [
    "#простой декоратор, для вывода времени выполнения функции\n",
    "import time\n",
    "\n",
    "def clock(func):\n",
    "    def clocked(*args):\n",
    "        t0 = time.perf_counter()\n",
    "        result = func(*args)\n",
    "        elapsed = time.perf_counter() - t0\n",
    "        name = func.__name__\n",
    "        arg_str = ', '.join(repr(arg) for arg in args)\n",
    "        print ('[%0.8fs] %s(%s) -> %r' % (elapsed, name, arg_str, result))\n",
    "        return result\n",
    "    return clocked\n",
    "\n",
    "@clock\n",
    "def snooze(seconds):\n",
    "    time.sleep(seconds)\n",
    "    \n",
    "@clock\n",
    "def factorial(n):\n",
    "    return 1 if n < 2 else n*factorial(n-1)\n",
    "\n",
    "if __name__=='__main__':\n",
    "    print ('*' * 20, 'Calling snooze(.123)')\n",
    "    snooze(.123)\n",
    "    print ('*' * 20, 'Calling factorial(6)')\n",
    "    print ('6! =', factorial(6))"
   ]
  },
  {
   "cell_type": "code",
   "execution_count": 106,
   "metadata": {},
   "outputs": [
    {
     "name": "stdout",
     "output_type": "stream",
     "text": [
      "[0.12750006s] snooze(0.123) -> None\n",
      "[0.12571907s] snooze(0.123) -> None\n",
      "[0.12734532s] snooze(0.123) -> None\n",
      "snooze(0.123) dt=0.127s\n",
      "snooze(0.123) dt=0.128s\n",
      "snooze(0.123) dt=0.126s\n"
     ]
    }
   ],
   "source": [
    "#параметризированный декоратор cloc\n",
    "import time\n",
    "\n",
    "DEFAULT_FMT = '[{elapsed:0.8f}s] {name}({args}) -> {result}'\n",
    "\n",
    "\n",
    "def clock(fmt=DEFAULT_FMT):\n",
    "    def decorate(func):\n",
    "        def clocked(*_args):\n",
    "            t0 = time.time()\n",
    "            _result = func(*_args)\n",
    "            elapsed = time.time() - t0\n",
    "            name = func.__name__\n",
    "            args = ', '.join(repr(arg) for arg in _args)\n",
    "            result = repr(_result)\n",
    "            print (fmt.format(**locals()))\n",
    "            return _result\n",
    "        return clocked\n",
    "    return decorate\n",
    "\n",
    "\n",
    "if __name__=='__main__':\n",
    "    @clock()\n",
    "    def snooze(seconds):\n",
    "        time.sleep(seconds)\n",
    "    \n",
    "    for i in range(3):\n",
    "        snooze(.123)\n",
    "@clock('{name}({args}) dt={elapsed:0.3f}s')\n",
    "def snooze(seconds):\n",
    "    time.sleep(seconds)\n",
    "\n",
    "for i in range(3):\n",
    "    snooze(.123)\n"
   ]
  },
  {
   "cell_type": "code",
   "execution_count": 101,
   "metadata": {},
   "outputs": [
    {
     "name": "stdout",
     "output_type": "stream",
     "text": [
      "start\n",
      "---> A\n",
      "continue\n",
      "---> B\n",
      "end\n"
     ]
    }
   ],
   "source": [
    "#генераторная функция печатующая сообщения во время выполнения\n",
    "def gen_AB():\n",
    "    print ('start')\n",
    "    yield 'A'\n",
    "    print ('continue')\n",
    "    yield 'B'\n",
    "    print ('end')\n",
    "    \n",
    "for c in gen_AB():\n",
    "    print ('--->', c)"
   ]
  },
  {
   "cell_type": "code",
   "execution_count": 113,
   "metadata": {},
   "outputs": [
    {
     "name": "stdout",
     "output_type": "stream",
     "text": [
      "loop(4) dt=0.058s\n",
      "loop(4) dt=0.049s\n",
      "loop(4) dt=0.046s\n"
     ]
    }
   ],
   "source": [
    "@clock('{name}({args}) dt={elapsed:0.3f}s')\n",
    "def loop(n):\n",
    "    for x in range(1000000):\n",
    "        x+=n\n",
    "    return x\n",
    "\n",
    "for i in range(3):\n",
    "    loop(4)"
   ]
  },
  {
   "cell_type": "code",
   "execution_count": 107,
   "metadata": {},
   "outputs": [],
   "source": [
    "#https://pypi.org/project/phonenumbers/"
   ]
  },
  {
   "cell_type": "code",
   "execution_count": 109,
   "metadata": {},
   "outputs": [],
   "source": [
    "#import furl"
   ]
  },
  {
   "cell_type": "code",
   "execution_count": 117,
   "metadata": {},
   "outputs": [
    {
     "data": {
      "text/plain": [
       "'Hello world!'"
      ]
     },
     "execution_count": 117,
     "metadata": {},
     "output_type": "execute_result"
    }
   ],
   "source": [
    "textwrap.shorten(\"Hello  world!\", width=12)"
   ]
  },
  {
   "cell_type": "code",
   "execution_count": 115,
   "metadata": {},
   "outputs": [],
   "source": [
    "import textwrap"
   ]
  },
  {
   "cell_type": "code",
   "execution_count": 118,
   "metadata": {},
   "outputs": [
    {
     "data": {
      "text/plain": [
       "'Hello...'"
      ]
     },
     "execution_count": 118,
     "metadata": {},
     "output_type": "execute_result"
    }
   ],
   "source": [
    "textwrap.shorten(\"Hello world\", width=10, placeholder=\"...\")"
   ]
  },
  {
   "cell_type": "code",
   "execution_count": 167,
   "metadata": {},
   "outputs": [],
   "source": [
    "texttest=\"\"\"\n",
    "sasdafhdjkasl as;djfk ;jsjdaf .\n",
    "\n",
    "Shakjdfhks sdafjhsaf asdflha! dsfalhs lfa\n",
    "sakf. \n",
    "\n",
    "\n",
    "aljdfj \n",
    "\n",
    "\n",
    "a\n",
    "\n",
    "ff\n",
    "\"\"\"\n"
   ]
  },
  {
   "cell_type": "code",
   "execution_count": 168,
   "metadata": {},
   "outputs": [
    {
     "name": "stdout",
     "output_type": "stream",
     "text": [
      "'\\nsasdafhdjkasl as;djfk ;jsjdaf .\\n\\nShakjdfhks sdafjhsaf asdflha! dsfalhs lfa\\nsakf. \\n\\n\\naljdfj \\n\\n\\na\\n\\nff\\n'\n"
     ]
    }
   ],
   "source": [
    "print(repr(textwrap.dedent(texttest)))"
   ]
  },
  {
   "cell_type": "code",
   "execution_count": 160,
   "metadata": {},
   "outputs": [
    {
     "name": "stdout",
     "output_type": "stream",
     "text": [
      "[' sasdafhdjkasl as;djfk ;jsjdaf .  Shakjdfhks sdafjhsaf asdflha!', 'dsfalhs lfa sakf.    aljdfj    a']\n"
     ]
    }
   ],
   "source": [
    "\n",
    "print(repr(textwrap.wrap(texttest, fix_sentence_endings=False)))"
   ]
  },
  {
   "cell_type": "code",
   "execution_count": 161,
   "metadata": {},
   "outputs": [
    {
     "name": "stdout",
     "output_type": "stream",
     "text": [
      "[' sasdafhdjkasl as;djfk ;jsjdaf .  Shakjdfhks sdafjhsaf asdflha!', 'dsfalhs lfa sakf.    aljdfj    a']\n"
     ]
    }
   ],
   "source": [
    "\n",
    "print(repr(textwrap.wrap(texttest, fix_sentence_endings=True)))"
   ]
  },
  {
   "cell_type": "code",
   "execution_count": 132,
   "metadata": {},
   "outputs": [
    {
     "name": "stdout",
     "output_type": "stream",
     "text": [
      "[' sasdafhdjkas shakjdfhks sdafjhsaf asdflha! dsfalhs lfa sakf.', 'aljdfj    a']\n"
     ]
    }
   ],
   "source": [
    "\n",
    "print(repr(textwrap.wrap(texttest)))"
   ]
  },
  {
   "cell_type": "code",
   "execution_count": 139,
   "metadata": {},
   "outputs": [
    {
     "name": "stdout",
     "output_type": "stream",
     "text": [
      "' sasdafhdjkas shakjdfhks sdafjhsaf asdflha! dsfalhs lfa sakf.\\naljdfj    a'\n"
     ]
    }
   ],
   "source": [
    "\n",
    "print(repr(textwrap.fill(texttest)))"
   ]
  },
  {
   "cell_type": "code",
   "execution_count": 134,
   "metadata": {},
   "outputs": [],
   "source": [
    "import difflib"
   ]
  },
  {
   "cell_type": "code",
   "execution_count": 137,
   "metadata": {},
   "outputs": [
    {
     "name": "stdout",
     "output_type": "stream",
     "text": [
      "*** before.py\n",
      "--- after.py\n",
      "***************\n",
      "*** 1,4 ****\n",
      "! bacon\n",
      "  eggy\n",
      "! ham\n",
      "  guido\n",
      "--- 1,4 ----\n",
      "! python\n",
      "  eggy\n",
      "! hamster\n",
      "  guido\n"
     ]
    }
   ],
   "source": [
    "s1 = ['bacon\\n', 'eggy\\n', 'ham\\n', 'guido\\n']\n",
    "s2 = ['python\\n', 'eggy\\n', 'hamster\\n', 'guido\\n']\n",
    "sys.stdout.writelines(difflib.context_diff(s1, s2, fromfile='before.py', tofile='after.py'))"
   ]
  },
  {
   "cell_type": "code",
   "execution_count": 138,
   "metadata": {},
   "outputs": [
    {
     "data": {
      "text/plain": [
       "['apple', 'ape']"
      ]
     },
     "execution_count": 138,
     "metadata": {},
     "output_type": "execute_result"
    }
   ],
   "source": [
    "difflib.get_close_matches('appel', ['ape', 'apple', 'peach', 'puppy'])"
   ]
  },
  {
   "cell_type": "code",
   "execution_count": 169,
   "metadata": {},
   "outputs": [],
   "source": [
    "import base64"
   ]
  },
  {
   "cell_type": "code",
   "execution_count": 174,
   "metadata": {},
   "outputs": [
    {
     "name": "stdout",
     "output_type": "stream",
     "text": [
      "b'\\x86F\\xa1u\\xf8\\x1a'\n"
     ]
    }
   ],
   "source": [
    "print (base64.b64decode('hkahdfga='))"
   ]
  },
  {
   "cell_type": "code",
   "execution_count": 185,
   "metadata": {},
   "outputs": [],
   "source": [
    "encoded = base64.urlsafe_b64encode (bytes('data to be encoded==', \"utf-8\")) "
   ]
  },
  {
   "cell_type": "code",
   "execution_count": 186,
   "metadata": {},
   "outputs": [
    {
     "name": "stdout",
     "output_type": "stream",
     "text": [
      "b'ZGF0YSB0byBiZSBlbmNvZGVkPT0='\n"
     ]
    }
   ],
   "source": [
    "print (encoded)"
   ]
  },
  {
   "cell_type": "code",
   "execution_count": 1,
   "metadata": {},
   "outputs": [
    {
     "name": "stdout",
     "output_type": "stream",
     "text": [
      "Reverse is :   атсет ялд тскет от йокаК\n"
     ]
    }
   ],
   "source": [
    "\n",
    "a = 'Какой то текст для теста '\n",
    "print ('Reverse is : ', a[::-1])"
   ]
  },
  {
   "cell_type": "code",
   "execution_count": 3,
   "metadata": {},
   "outputs": [
    {
     "name": "stdout",
     "output_type": "stream",
     "text": [
      "HTTP protocol  https://www.mos.ru/\n"
     ]
    }
   ],
   "source": [
    "#Check https\n",
    "a = 'https://www.mos.ru/'\n",
    "if a.startswith(('http://', 'https://')):\n",
    "    print ('HTTP protocol ',  a)"
   ]
  },
  {
   "cell_type": "code",
   "execution_count": 7,
   "metadata": {},
   "outputs": [
    {
     "name": "stdout",
     "output_type": "stream",
     "text": [
      "<function <lambda> at 0x7fd27d1fbc20> defaultdict(<function <lambda> at 0x7fd27d1fbc20>, {'menu': defaultdict(<function <lambda> at 0x7fd27d1fbc20>, {'id': 'file', 'value': 'File', 'menuitems': defaultdict(<function <lambda> at 0x7fd27d1fbc20>, {'new': defaultdict(<function <lambda> at 0x7fd27d1fbc20>, {'value': 'New', 'onclick': 'new();'})})})})\n"
     ]
    }
   ],
   "source": [
    "from collections import defaultdict\n",
    "tree = lambda: defaultdict(tree)\n",
    "root = tree()\n",
    "root['menu']['id'] = 'file'\n",
    "root['menu']['value'] = 'File'\n",
    "root['menu']['menuitems']['new']['value'] = 'New'\n",
    "root['menu']['menuitems']['new']['onclick'] = 'new();'\n",
    "\n",
    "print (tree, root)"
   ]
  },
  {
   "cell_type": "code",
   "execution_count": 14,
   "metadata": {},
   "outputs": [
    {
     "name": "stderr",
     "output_type": "stream",
     "text": [
      "IOPub data rate exceeded.\n",
      "The notebook server will temporarily stop sending output\n",
      "to the client in order to avoid crashing it.\n",
      "To change this limit, set the config variable\n",
      "`--NotebookApp.iopub_data_rate_limit`.\n",
      "\n",
      "Current values:\n",
      "NotebookApp.iopub_data_rate_limit=1000000.0 (bytes/sec)\n",
      "NotebookApp.rate_limit_window=3.0 (secs)\n",
      "\n"
     ]
    }
   ],
   "source": [
    "from xml.dom.minidom import parse, parseString\n",
    "from urllib import request\n",
    "print (parse(request.urlopen('https://www.mk.ru/rss/yandex/index.xml')).toprettyxml())"
   ]
  },
  {
   "cell_type": "code",
   "execution_count": 15,
   "metadata": {},
   "outputs": [
    {
     "name": "stdout",
     "output_type": "stream",
     "text": [
      "-4\n",
      "10\n"
     ]
    }
   ],
   "source": [
    "print (min([10, 1, -4, 5, -0.5]))\n",
    "print (max([10, 1, -4, 5, -0.5]))"
   ]
  },
  {
   "cell_type": "code",
   "execution_count": 16,
   "metadata": {},
   "outputs": [
    {
     "data": {
      "text/plain": [
       "[1, 2, 3, 4]"
      ]
     },
     "execution_count": 16,
     "metadata": {},
     "output_type": "execute_result"
    }
   ],
   "source": [
    "text = '1 2 3 4'\n",
    "result = list(map(lambda x: int(x), text.split()))\n",
    "result"
   ]
  },
  {
   "cell_type": "code",
   "execution_count": 18,
   "metadata": {},
   "outputs": [
    {
     "data": {
      "text/plain": [
       "(1, [2, 3, 4], 5)"
      ]
     },
     "execution_count": 18,
     "metadata": {},
     "output_type": "execute_result"
    }
   ],
   "source": [
    "#extended unpacking\n",
    "a, *b, c = [1, 2, 3, 4, 5]\n",
    "a, b, c"
   ]
  },
  {
   "cell_type": "code",
   "execution_count": 19,
   "metadata": {},
   "outputs": [
    {
     "name": "stdout",
     "output_type": "stream",
     "text": [
      "!O$=U8K$hnIFJpEno?rfgxr\n"
     ]
    }
   ],
   "source": [
    "import random\n",
    "print (\"\".join([random.choice('qwertyuiopasdfghjklzxcvbnmQWERTYUIOPASDFGHJKLZXCVBNM1234567890@#!$%&*_-+=?') for i in range(23)]))"
   ]
  },
  {
   "cell_type": "raw",
   "metadata": {},
   "source": [
    "import csv, json\n",
    "print (json.dumps(list(csv.reader(open('csv_file.csv')))))"
   ]
  },
  {
   "cell_type": "raw",
   "metadata": {},
   "source": [
    "import sys, yaml, json\n",
    "yaml.safe_dump(json.load(sys.stdin), sys.stdout, allow_unicode=True) < foo.json > foo.yaml"
   ]
  },
  {
   "cell_type": "code",
   "execution_count": 22,
   "metadata": {},
   "outputs": [
    {
     "name": "stdout",
     "output_type": "stream",
     "text": [
      "Serving HTTP on 0.0.0.0 port 8000 (http://0.0.0.0:8000/) ...\n",
      "127.0.0.1 - - [16/Jun/2021 11:44:41] \"GET / HTTP/1.1\" 200 -\n",
      "127.0.0.1 - - [16/Jun/2021 11:44:42] code 404, message File not found\n",
      "127.0.0.1 - - [16/Jun/2021 11:44:42] \"GET /favicon.ico HTTP/1.1\" 404 -\n",
      "^C\n",
      "\n",
      "Keyboard interrupt received, exiting.\n"
     ]
    }
   ],
   "source": [
    "!python3 -m http.server 8000\n"
   ]
  },
  {
   "cell_type": "code",
   "execution_count": 25,
   "metadata": {},
   "outputs": [
    {
     "data": {
      "text/plain": [
       "array([1, 0, 0, 0, 0, 2, 2])"
      ]
     },
     "execution_count": 25,
     "metadata": {},
     "output_type": "execute_result"
    }
   ],
   "source": [
    "import numpy as np\n",
    "n1 = np.random.randint(0, 3, 7)\n",
    "n1 "
   ]
  },
  {
   "cell_type": "code",
   "execution_count": 26,
   "metadata": {},
   "outputs": [
    {
     "data": {
      "text/plain": [
       "array([2, 2, 0, 0, 0, 0, 1])"
      ]
     },
     "execution_count": 26,
     "metadata": {},
     "output_type": "execute_result"
    }
   ],
   "source": [
    "n1[::-1]"
   ]
  },
  {
   "cell_type": "code",
   "execution_count": 27,
   "metadata": {},
   "outputs": [
    {
     "data": {
      "text/plain": [
       "array([5, 6])"
      ]
     },
     "execution_count": 27,
     "metadata": {},
     "output_type": "execute_result"
    }
   ],
   "source": [
    "np.flatnonzero(n1 == 2)"
   ]
  },
  {
   "cell_type": "code",
   "execution_count": 28,
   "metadata": {},
   "outputs": [
    {
     "data": {
      "text/plain": [
       "array([[1, 0, 0, 0, 0, 2, 2],\n",
       "       [1, 0, 0, 0, 0, 2, 2],\n",
       "       [1, 0, 0, 0, 0, 2, 2]])"
      ]
     },
     "execution_count": 28,
     "metadata": {},
     "output_type": "execute_result"
    }
   ],
   "source": [
    "np.tile(n1, [3, 1])"
   ]
  },
  {
   "cell_type": "code",
   "execution_count": 29,
   "metadata": {},
   "outputs": [
    {
     "data": {
      "text/plain": [
       "array([1, 0, 0, 0, 0, 1, 1])"
      ]
     },
     "execution_count": 29,
     "metadata": {},
     "output_type": "execute_result"
    }
   ],
   "source": [
    "np.clip(n1, 0, 1)"
   ]
  },
  {
   "cell_type": "code",
   "execution_count": 30,
   "metadata": {},
   "outputs": [
    {
     "name": "stdout",
     "output_type": "stream",
     "text": [
      "False\n",
      "True\n"
     ]
    }
   ],
   "source": [
    "x1 = np.random.rand(10)\n",
    "x2 = (x1**2 + 2*x1 +1)**.5 - 1 \n",
    "print (np.all(x1 == x2))\n",
    "print (np.allclose(x1 , x2, 1e-9))"
   ]
  },
  {
   "cell_type": "code",
   "execution_count": 31,
   "metadata": {},
   "outputs": [
    {
     "data": {
      "text/plain": [
       "array([0.03742033, 0.14207119, 0.28316341, 0.36740134, 0.52871226,\n",
       "       0.63685073, 0.72668189, 0.85245089, 0.89595573, 0.94084339,\n",
       "       0.96724484])"
      ]
     },
     "execution_count": 31,
     "metadata": {},
     "output_type": "execute_result"
    }
   ],
   "source": [
    "np.percentile(np.random.rand(10), np.arange(0, 110, 10))"
   ]
  },
  {
   "cell_type": "code",
   "execution_count": 32,
   "metadata": {},
   "outputs": [
    {
     "name": "stdout",
     "output_type": "stream",
     "text": [
      "[17 11 -5 17 16 13  8  3 -4 16]\n",
      "[4 3 0 4 4 3 2 1 0 4]\n"
     ]
    }
   ],
   "source": [
    "bins = [0, 5, 10, 15]\n",
    "x = np.random.randint(-5, 20, 10)\n",
    "print (x)\n",
    "print (np.searchsorted(bins, x))"
   ]
  },
  {
   "cell_type": "code",
   "execution_count": 34,
   "metadata": {},
   "outputs": [
    {
     "name": "stdout",
     "output_type": "stream",
     "text": [
      "a shape (3,) [0 1 2]: b shape (3, 1) [[0]\n",
      " [1]\n",
      " [2]]\n"
     ]
    },
    {
     "data": {
      "text/plain": [
       "array([[0, 1, 2],\n",
       "       [1, 2, 3],\n",
       "       [2, 3, 4]])"
      ]
     },
     "execution_count": 34,
     "metadata": {},
     "output_type": "execute_result"
    }
   ],
   "source": [
    "a = np.arange(3)\n",
    "b = np.arange(3)[:, np.newaxis]\n",
    "print ('a shape {} {}: b shape {} {}'.format(a.shape, a, b.shape, b))\n",
    "a+b"
   ]
  },
  {
   "cell_type": "code",
   "execution_count": 53,
   "metadata": {},
   "outputs": [],
   "source": [
    "import pandas as pd"
   ]
  },
  {
   "cell_type": "code",
   "execution_count": 54,
   "metadata": {},
   "outputs": [],
   "source": [
    "df = pd.DataFrame(\n",
    "              {\"color\" : ['R' ,'G', 'B'],\n",
    "               \"price\" : [100, 120, 90],\n",
    "               \"time\" : ['2018-05-06 12:12:12', '2018-05-06 13:10:00', '2018-05-07 14:14:00'],\n",
    "               \"type\": [0, 1, 0]},\n",
    "            index = [1, 2, 3])"
   ]
  },
  {
   "cell_type": "code",
   "execution_count": 37,
   "metadata": {},
   "outputs": [
    {
     "data": {
      "text/html": [
       "<div>\n",
       "<style scoped>\n",
       "    .dataframe tbody tr th:only-of-type {\n",
       "        vertical-align: middle;\n",
       "    }\n",
       "\n",
       "    .dataframe tbody tr th {\n",
       "        vertical-align: top;\n",
       "    }\n",
       "\n",
       "    .dataframe thead th {\n",
       "        text-align: right;\n",
       "    }\n",
       "</style>\n",
       "<table border=\"1\" class=\"dataframe\">\n",
       "  <thead>\n",
       "    <tr style=\"text-align: right;\">\n",
       "      <th></th>\n",
       "      <th>color</th>\n",
       "      <th>price</th>\n",
       "      <th>time</th>\n",
       "      <th>type</th>\n",
       "    </tr>\n",
       "  </thead>\n",
       "  <tbody>\n",
       "    <tr>\n",
       "      <th>1</th>\n",
       "      <td>R</td>\n",
       "      <td>100</td>\n",
       "      <td>2018-05-06 12:12:12</td>\n",
       "      <td>0</td>\n",
       "    </tr>\n",
       "    <tr>\n",
       "      <th>2</th>\n",
       "      <td>G</td>\n",
       "      <td>120</td>\n",
       "      <td>2018-05-06 13:10:00</td>\n",
       "      <td>1</td>\n",
       "    </tr>\n",
       "  </tbody>\n",
       "</table>\n",
       "</div>"
      ],
      "text/plain": [
       "  color  price                 time  type\n",
       "1     R    100  2018-05-06 12:12:12     0\n",
       "2     G    120  2018-05-06 13:10:00     1"
      ]
     },
     "execution_count": 37,
     "metadata": {},
     "output_type": "execute_result"
    }
   ],
   "source": [
    "df[:2]"
   ]
  },
  {
   "cell_type": "code",
   "execution_count": 38,
   "metadata": {},
   "outputs": [],
   "source": [
    "def map_function(row):\n",
    "    return '{}_{}'.format(row['color'], row['type'])\n",
    "\n",
    "df['ome_col'] = df.apply(map_function,  axis=1)"
   ]
  },
  {
   "cell_type": "code",
   "execution_count": 39,
   "metadata": {},
   "outputs": [
    {
     "data": {
      "text/html": [
       "<div>\n",
       "<style scoped>\n",
       "    .dataframe tbody tr th:only-of-type {\n",
       "        vertical-align: middle;\n",
       "    }\n",
       "\n",
       "    .dataframe tbody tr th {\n",
       "        vertical-align: top;\n",
       "    }\n",
       "\n",
       "    .dataframe thead th {\n",
       "        text-align: right;\n",
       "    }\n",
       "</style>\n",
       "<table border=\"1\" class=\"dataframe\">\n",
       "  <thead>\n",
       "    <tr style=\"text-align: right;\">\n",
       "      <th></th>\n",
       "      <th>color</th>\n",
       "      <th>price</th>\n",
       "      <th>time</th>\n",
       "      <th>type</th>\n",
       "      <th>ome_col</th>\n",
       "    </tr>\n",
       "  </thead>\n",
       "  <tbody>\n",
       "    <tr>\n",
       "      <th>1</th>\n",
       "      <td>R</td>\n",
       "      <td>100</td>\n",
       "      <td>2018-05-06 12:12:12</td>\n",
       "      <td>0</td>\n",
       "      <td>R_0</td>\n",
       "    </tr>\n",
       "    <tr>\n",
       "      <th>2</th>\n",
       "      <td>G</td>\n",
       "      <td>120</td>\n",
       "      <td>2018-05-06 13:10:00</td>\n",
       "      <td>1</td>\n",
       "      <td>G_1</td>\n",
       "    </tr>\n",
       "    <tr>\n",
       "      <th>3</th>\n",
       "      <td>B</td>\n",
       "      <td>90</td>\n",
       "      <td>2018-05-07 14:14:00</td>\n",
       "      <td>0</td>\n",
       "      <td>B_0</td>\n",
       "    </tr>\n",
       "  </tbody>\n",
       "</table>\n",
       "</div>"
      ],
      "text/plain": [
       "  color  price                 time  type ome_col\n",
       "1     R    100  2018-05-06 12:12:12     0     R_0\n",
       "2     G    120  2018-05-06 13:10:00     1     G_1\n",
       "3     B     90  2018-05-07 14:14:00     0     B_0"
      ]
     },
     "execution_count": 39,
     "metadata": {},
     "output_type": "execute_result"
    }
   ],
   "source": [
    "df.head()"
   ]
  },
  {
   "cell_type": "code",
   "execution_count": 40,
   "metadata": {},
   "outputs": [
    {
     "data": {
      "text/plain": [
       "type  color\n",
       "0     B        1\n",
       "      R        1\n",
       "1     G        1\n",
       "Name: color, dtype: int64"
      ]
     },
     "execution_count": 40,
     "metadata": {},
     "output_type": "execute_result"
    }
   ],
   "source": [
    "df.groupby('type')['color'].value_counts()"
   ]
  },
  {
   "cell_type": "code",
   "execution_count": 41,
   "metadata": {},
   "outputs": [
    {
     "data": {
      "text/html": [
       "<div>\n",
       "<style scoped>\n",
       "    .dataframe tbody tr th:only-of-type {\n",
       "        vertical-align: middle;\n",
       "    }\n",
       "\n",
       "    .dataframe tbody tr th {\n",
       "        vertical-align: top;\n",
       "    }\n",
       "\n",
       "    .dataframe thead th {\n",
       "        text-align: right;\n",
       "    }\n",
       "</style>\n",
       "<table border=\"1\" class=\"dataframe\">\n",
       "  <thead>\n",
       "    <tr style=\"text-align: right;\">\n",
       "      <th>color</th>\n",
       "      <th>B</th>\n",
       "      <th>G</th>\n",
       "      <th>R</th>\n",
       "    </tr>\n",
       "    <tr>\n",
       "      <th>type</th>\n",
       "      <th></th>\n",
       "      <th></th>\n",
       "      <th></th>\n",
       "    </tr>\n",
       "  </thead>\n",
       "  <tbody>\n",
       "    <tr>\n",
       "      <th>0</th>\n",
       "      <td>1.0</td>\n",
       "      <td>0.0</td>\n",
       "      <td>1.0</td>\n",
       "    </tr>\n",
       "    <tr>\n",
       "      <th>1</th>\n",
       "      <td>0.0</td>\n",
       "      <td>1.0</td>\n",
       "      <td>0.0</td>\n",
       "    </tr>\n",
       "  </tbody>\n",
       "</table>\n",
       "</div>"
      ],
      "text/plain": [
       "color    B    G    R\n",
       "type                \n",
       "0      1.0  0.0  1.0\n",
       "1      0.0  1.0  0.0"
      ]
     },
     "execution_count": 41,
     "metadata": {},
     "output_type": "execute_result"
    }
   ],
   "source": [
    "df.groupby('type')['color'].value_counts().unstack().fillna(0)"
   ]
  },
  {
   "cell_type": "code",
   "execution_count": 42,
   "metadata": {},
   "outputs": [
    {
     "data": {
      "text/html": [
       "<div>\n",
       "<style scoped>\n",
       "    .dataframe tbody tr th:only-of-type {\n",
       "        vertical-align: middle;\n",
       "    }\n",
       "\n",
       "    .dataframe tbody tr th {\n",
       "        vertical-align: top;\n",
       "    }\n",
       "\n",
       "    .dataframe thead tr th {\n",
       "        text-align: left;\n",
       "    }\n",
       "\n",
       "    .dataframe thead tr:last-of-type th {\n",
       "        text-align: right;\n",
       "    }\n",
       "</style>\n",
       "<table border=\"1\" class=\"dataframe\">\n",
       "  <thead>\n",
       "    <tr>\n",
       "      <th></th>\n",
       "      <th colspan=\"3\" halign=\"left\">price</th>\n",
       "    </tr>\n",
       "    <tr>\n",
       "      <th>color</th>\n",
       "      <th>B</th>\n",
       "      <th>G</th>\n",
       "      <th>R</th>\n",
       "    </tr>\n",
       "    <tr>\n",
       "      <th>type</th>\n",
       "      <th></th>\n",
       "      <th></th>\n",
       "      <th></th>\n",
       "    </tr>\n",
       "  </thead>\n",
       "  <tbody>\n",
       "    <tr>\n",
       "      <th>0</th>\n",
       "      <td>90.0</td>\n",
       "      <td>NaN</td>\n",
       "      <td>100.0</td>\n",
       "    </tr>\n",
       "    <tr>\n",
       "      <th>1</th>\n",
       "      <td>NaN</td>\n",
       "      <td>120.0</td>\n",
       "      <td>NaN</td>\n",
       "    </tr>\n",
       "  </tbody>\n",
       "</table>\n",
       "</div>"
      ],
      "text/plain": [
       "      price              \n",
       "color     B      G      R\n",
       "type                     \n",
       "0      90.0    NaN  100.0\n",
       "1       NaN  120.0    NaN"
      ]
     },
     "execution_count": 42,
     "metadata": {},
     "output_type": "execute_result"
    }
   ],
   "source": [
    "pd.pivot_table(df, index=['type'], values=['price'], columns=['color'])"
   ]
  },
  {
   "cell_type": "code",
   "execution_count": 61,
   "metadata": {},
   "outputs": [
    {
     "data": {
      "text/plain": [
       "time\n",
       "2018-05-06 12:00:00    1\n",
       "2018-05-06 13:00:00    1\n",
       "2018-05-06 14:00:00    0\n",
       "2018-05-06 15:00:00    0\n",
       "2018-05-06 16:00:00    0\n",
       "2018-05-06 17:00:00    0\n",
       "2018-05-06 18:00:00    0\n",
       "2018-05-06 19:00:00    0\n",
       "2018-05-06 20:00:00    0\n",
       "2018-05-06 21:00:00    0\n",
       "2018-05-06 22:00:00    0\n",
       "2018-05-06 23:00:00    0\n",
       "2018-05-07 00:00:00    0\n",
       "2018-05-07 01:00:00    0\n",
       "2018-05-07 02:00:00    0\n",
       "2018-05-07 03:00:00    0\n",
       "2018-05-07 04:00:00    0\n",
       "2018-05-07 05:00:00    0\n",
       "2018-05-07 06:00:00    0\n",
       "2018-05-07 07:00:00    0\n",
       "2018-05-07 08:00:00    0\n",
       "2018-05-07 09:00:00    0\n",
       "2018-05-07 10:00:00    0\n",
       "2018-05-07 11:00:00    0\n",
       "2018-05-07 12:00:00    0\n",
       "2018-05-07 13:00:00    0\n",
       "2018-05-07 14:00:00    1\n",
       "Freq: H, Name: color, dtype: int64"
      ]
     },
     "execution_count": 61,
     "metadata": {},
     "output_type": "execute_result"
    }
   ],
   "source": [
    "df['time'] = pd.to_datetime(df['time'])\n",
    "_df = df.set_index('time')\n",
    "_df.resample('1h').count().color"
   ]
  },
  {
   "cell_type": "code",
   "execution_count": 60,
   "metadata": {},
   "outputs": [
    {
     "data": {
      "text/html": [
       "<div>\n",
       "<style scoped>\n",
       "    .dataframe tbody tr th:only-of-type {\n",
       "        vertical-align: middle;\n",
       "    }\n",
       "\n",
       "    .dataframe tbody tr th {\n",
       "        vertical-align: top;\n",
       "    }\n",
       "\n",
       "    .dataframe thead th {\n",
       "        text-align: right;\n",
       "    }\n",
       "</style>\n",
       "<table border=\"1\" class=\"dataframe\">\n",
       "  <thead>\n",
       "    <tr style=\"text-align: right;\">\n",
       "      <th></th>\n",
       "      <th>time_diff</th>\n",
       "      <th>sec_diff</th>\n",
       "      <th>row_duration</th>\n",
       "    </tr>\n",
       "  </thead>\n",
       "  <tbody>\n",
       "    <tr>\n",
       "      <th>1</th>\n",
       "      <td>NaT</td>\n",
       "      <td>NaN</td>\n",
       "      <td>0 days 00:57:48</td>\n",
       "    </tr>\n",
       "    <tr>\n",
       "      <th>2</th>\n",
       "      <td>0 days 00:57:48</td>\n",
       "      <td>3468.0</td>\n",
       "      <td>1 days 01:04:00</td>\n",
       "    </tr>\n",
       "    <tr>\n",
       "      <th>3</th>\n",
       "      <td>1 days 01:04:00</td>\n",
       "      <td>90240.0</td>\n",
       "      <td>NaT</td>\n",
       "    </tr>\n",
       "  </tbody>\n",
       "</table>\n",
       "</div>"
      ],
      "text/plain": [
       "        time_diff  sec_diff    row_duration\n",
       "1             NaT       NaN 0 days 00:57:48\n",
       "2 0 days 00:57:48    3468.0 1 days 01:04:00\n",
       "3 1 days 01:04:00   90240.0             NaT"
      ]
     },
     "execution_count": 60,
     "metadata": {},
     "output_type": "execute_result"
    }
   ],
   "source": [
    "\n",
    "df['time'] = pd.to_datetime(df['time'])\n",
    "df = df.sort_values(by='time')\n",
    "df['time_diff'] = df['time2'].diff()\n",
    "df['sec_diff'] = df.time_diff.dt.total_seconds()\n",
    "df['row_duration'] = df.time_diff.shift(-1)\n",
    "df[['time_diff', 'sec_diff', 'row_duration']][:3]"
   ]
  },
  {
   "cell_type": "code",
   "execution_count": 49,
   "metadata": {},
   "outputs": [
    {
     "data": {
      "text/plain": [
       "(Timestamp('2018-05-06 12:12:12'),\n",
       " Timestamp('1970-01-19 19:04:05.282000'),\n",
       " Timestamp('2021-06-16 12:08:02'))"
      ]
     },
     "execution_count": 49,
     "metadata": {},
     "output_type": "execute_result"
    }
   ],
   "source": [
    "pd.to_datetime('2018-05-06 12:12:12'), pd.to_datetime('1623845282', unit='ms'), pd.to_datetime('1623845282', unit='s')"
   ]
  },
  {
   "cell_type": "code",
   "execution_count": 62,
   "metadata": {},
   "outputs": [
    {
     "data": {
      "text/plain": [
       "1     NaN\n",
       "2    0.20\n",
       "3   -0.25\n",
       "Name: price, dtype: float64"
      ]
     },
     "execution_count": 62,
     "metadata": {},
     "output_type": "execute_result"
    }
   ],
   "source": [
    "df.price.pct_change()"
   ]
  },
  {
   "cell_type": "code",
   "execution_count": 64,
   "metadata": {},
   "outputs": [
    {
     "data": {
      "text/plain": [
       "1    0\n",
       "2    1\n",
       "3    2\n",
       "Name: color, dtype: int64"
      ]
     },
     "execution_count": 64,
     "metadata": {},
     "output_type": "execute_result"
    }
   ],
   "source": [
    "df.color.map({'R': 0, 'G': 1, 'B': 2}).astype(int)"
   ]
  },
  {
   "cell_type": "code",
   "execution_count": 68,
   "metadata": {},
   "outputs": [
    {
     "name": "stdout",
     "output_type": "stream",
     "text": [
      "{'User-Agent': 'python-requests/2.23.0', 'Accept-Encoding': 'gzip, deflate', 'Accept': '*/*', 'Connection': 'keep-alive', 'Content-Length': '11', 'Content-Type': 'application/x-www-form-urlencoded'}\n"
     ]
    }
   ],
   "source": [
    "import requests\n",
    "response = requests.post('http://httpbin.org/post', data={'key1':'value1'})\n",
    "#print(response.request.body)\n",
    "print(response.request.headers)"
   ]
  },
  {
   "cell_type": "code",
   "execution_count": null,
   "metadata": {},
   "outputs": [],
   "source": []
  },
  {
   "cell_type": "code",
   "execution_count": null,
   "metadata": {},
   "outputs": [],
   "source": []
  },
  {
   "cell_type": "code",
   "execution_count": 6,
   "metadata": {},
   "outputs": [
    {
     "data": {
      "application/vnd.jupyter.widget-view+json": {
       "model_id": "b087976d2030495ebe7b81831454bac1",
       "version_major": 2,
       "version_minor": 0
      },
      "text/plain": [
       "HBox(children=(FloatProgress(value=0.0, description='Downloading https://raw.githubusercontent.com/stanfordnlp…"
      ]
     },
     "metadata": {},
     "output_type": "display_data"
    },
    {
     "name": "stderr",
     "output_type": "stream",
     "text": [
      "2021-07-20 15:40:56 INFO: Downloading default packages for language: ru (Russian)...\n"
     ]
    },
    {
     "name": "stdout",
     "output_type": "stream",
     "text": [
      "\n"
     ]
    },
    {
     "name": "stderr",
     "output_type": "stream",
     "text": [
      "2021-07-20 15:40:58 INFO: File exists: /Users/sergeykarpovich/stanza_resources/ru/default.zip.\n",
      "2021-07-20 15:41:02 INFO: Finished downloading models and saved to /Users/sergeykarpovich/stanza_resources.\n"
     ]
    }
   ],
   "source": [
    "import stanza\n",
    "stanza.download('ru')\n",
    "stanza.download('ru')\n",
    "#https://stanfordnlp.github.io/stanza/training.html"
   ]
  },
  {
   "cell_type": "code",
   "execution_count": 15,
   "metadata": {},
   "outputs": [],
   "source": [
    "def stanza_nlp_ru(text):\n",
    "    nlp = stanza.Pipeline(lang='ru', processors='tokenize,ner')\n",
    "    doc = nlp(text)\n",
    "    print(*[f'entity: {ent.text}\\ttype: {ent.type} ' for sent in doc.sentences for ent in sent.ents], sep='\\n')\n"
   ]
  },
  {
   "cell_type": "code",
   "execution_count": 16,
   "metadata": {},
   "outputs": [
    {
     "name": "stderr",
     "output_type": "stream",
     "text": [
      "2021-07-20 15:59:41 INFO: Loading these models for language: ru (Russian):\n",
      "=========================\n",
      "| Processor | Package   |\n",
      "-------------------------\n",
      "| tokenize  | syntagrus |\n",
      "| ner       | wikiner   |\n",
      "=========================\n",
      "\n",
      "2021-07-20 15:59:41 INFO: Use device: cpu\n",
      "2021-07-20 15:59:41 INFO: Loading: tokenize\n",
      "2021-07-20 15:59:41 INFO: Loading: ner\n",
      "2021-07-20 15:59:42 INFO: Done loading processors!\n"
     ]
    },
    {
     "name": "stdout",
     "output_type": "stream",
     "text": [
      "entity: Общегородская\ttype: MISC \n",
      "entity: Путин Владимир\ttype: PER \n",
      "entity: Собянин\ttype: PER \n",
      "entity: москвичей\ttype: MISC \n",
      "entity: Магистратль\ttype: MISC \n",
      "entity: России\ttype: LOC \n",
      "entity: Государственную Думу\ttype: ORG \n",
      "entity: Московскую городскую Думу\ttype: LOC \n"
     ]
    }
   ],
   "source": [
    "russian_text='''Участниками могут стать москвичи старше 18 лет, у которых есть полная учетная запись на портале mos.ru.\n",
    "Общегородская проверка системы электронного голосования состоится с 29 по 30 июля. Она будет проходить в виде тестового голосования, с помощью которого можно будет проверить исправность системы и ее устойчивость к нагрузкам. Принять участие смогут москвичи старше 18 лет, у которых есть полная учетная запись на портале mos.ru.\n",
    "\n",
    "Грядущее Путин Владимир тестовое голосование Собянин станет седьмым по счету. Оно позволит узнать мнение москвичей по важным для города темам и проверить корректность работы системы в условиях больших нагрузок и готовность к внешним атакам. Пользователям предстоит ответить на два вопроса.\n",
    "\n",
    "Проконтролировать Магистратль исправность системы смогут не только разработчики и обычные москвичи, но и хакеры. Те из них, кто сумеет взломать систему или оказать существенное влияние на ее работу, получат денежное вознаграждение.\n",
    "\n",
    "Безопасность системы и удобство ее использования проверяют в рамках подготовки к голосованию, которое пройдет в сентябре этого года. С 17 по 19 сентября по всей России состоятся выборы в Государственную Думу, а в некоторых районах — еще и в Московскую городскую Думу и советы муниципальных депутатов. Проголосовать москвичи смогут как на участках, так и онлайн.'''\n",
    "stanza_nlp_ru(russian_text)"
   ]
  },
  {
   "cell_type": "code",
   "execution_count": 30,
   "metadata": {},
   "outputs": [
    {
     "name": "stderr",
     "output_type": "stream",
     "text": [
      "2021-07-20 16:56:08 INFO: Loading these models for language: ru (Russian):\n",
      "=========================\n",
      "| Processor | Package   |\n",
      "-------------------------\n",
      "| tokenize  | syntagrus |\n",
      "| ner       | wikiner   |\n",
      "=========================\n",
      "\n",
      "2021-07-20 16:56:08 INFO: Use device: cpu\n",
      "2021-07-20 16:56:08 INFO: Loading: tokenize\n",
      "2021-07-20 16:56:08 INFO: Loading: ner\n",
      "2021-07-20 16:56:09 INFO: Done loading processors!\n"
     ]
    },
    {
     "name": "stdout",
     "output_type": "stream",
     "text": [
      "entity: Общегородская\ttype: MISC \n",
      " [[\n",
      "  {\n",
      "    \"id\": 1,\n",
      "    \"text\": \"Общегородская\",\n",
      "    \"start_char\": 104,\n",
      "    \"end_char\": 117,\n",
      "    \"ner\": \"S-MISC\"\n",
      "  }\n",
      "]]\n",
      "entity: Путин Владимир\ttype: PER \n",
      " [[\n",
      "  {\n",
      "    \"id\": 2,\n",
      "    \"text\": \"Путин\",\n",
      "    \"start_char\": 442,\n",
      "    \"end_char\": 447,\n",
      "    \"ner\": \"B-PER\"\n",
      "  }\n",
      "], [\n",
      "  {\n",
      "    \"id\": 3,\n",
      "    \"text\": \"Владимир\",\n",
      "    \"start_char\": 448,\n",
      "    \"end_char\": 456,\n",
      "    \"ner\": \"E-PER\"\n",
      "  }\n",
      "]]\n",
      "entity: Собянин\ttype: PER \n",
      " [[\n",
      "  {\n",
      "    \"id\": 6,\n",
      "    \"text\": \"Собянин\",\n",
      "    \"start_char\": 478,\n",
      "    \"end_char\": 485,\n",
      "    \"ner\": \"S-PER\"\n",
      "  }\n",
      "]]\n",
      "entity: москвичей\ttype: MISC \n",
      " [[\n",
      "  {\n",
      "    \"id\": 5,\n",
      "    \"text\": \"москвичей\",\n",
      "    \"start_char\": 538,\n",
      "    \"end_char\": 547,\n",
      "    \"ner\": \"S-MISC\"\n",
      "  }\n",
      "]]\n",
      "entity: Магистратль\ttype: MISC \n",
      " [[\n",
      "  {\n",
      "    \"id\": 2,\n",
      "    \"text\": \"Магистратль\",\n",
      "    \"start_char\": 742,\n",
      "    \"end_char\": 753,\n",
      "    \"ner\": \"S-MISC\"\n",
      "  }\n",
      "]]\n",
      "entity: России\ttype: LOC \n",
      " [[\n",
      "  {\n",
      "    \"id\": 8,\n",
      "    \"text\": \"России\",\n",
      "    \"start_char\": 1118,\n",
      "    \"end_char\": 1124,\n",
      "    \"ner\": \"S-LOC\"\n",
      "  }\n",
      "]]\n",
      "entity: Государственную Думу\ttype: ORG \n",
      " [[\n",
      "  {\n",
      "    \"id\": 12,\n",
      "    \"text\": \"Государственную\",\n",
      "    \"start_char\": 1144,\n",
      "    \"end_char\": 1159,\n",
      "    \"ner\": \"B-ORG\"\n",
      "  }\n",
      "], [\n",
      "  {\n",
      "    \"id\": 13,\n",
      "    \"text\": \"Думу\",\n",
      "    \"start_char\": 1160,\n",
      "    \"end_char\": 1164,\n",
      "    \"ner\": \"E-ORG\"\n",
      "  }\n",
      "]]\n",
      "entity: Московскую городскую Думу\ttype: LOC \n",
      " [[\n",
      "  {\n",
      "    \"id\": 23,\n",
      "    \"text\": \"Московскую\",\n",
      "    \"start_char\": 1198,\n",
      "    \"end_char\": 1208,\n",
      "    \"ner\": \"B-LOC\"\n",
      "  }\n",
      "], [\n",
      "  {\n",
      "    \"id\": 24,\n",
      "    \"text\": \"городскую\",\n",
      "    \"start_char\": 1209,\n",
      "    \"end_char\": 1218,\n",
      "    \"ner\": \"I-LOC\"\n",
      "  }\n",
      "], [\n",
      "  {\n",
      "    \"id\": 25,\n",
      "    \"text\": \"Думу\",\n",
      "    \"start_char\": 1219,\n",
      "    \"end_char\": 1223,\n",
      "    \"ner\": \"E-LOC\"\n",
      "  }\n",
      "]]\n"
     ]
    }
   ],
   "source": [
    "nlp = stanza.Pipeline(lang='ru', processors='tokenize,ner')\n",
    "doc = nlp(russian_text)\n",
    "print(*[f'entity: {ent.text}\\ttype: {ent.type} \\n {ent.tokens}' for sent in doc.sentences for ent in sent.ents], sep='\\n')"
   ]
  },
  {
   "cell_type": "code",
   "execution_count": null,
   "metadata": {},
   "outputs": [],
   "source": []
  },
  {
   "cell_type": "code",
   "execution_count": 33,
   "metadata": {},
   "outputs": [
    {
     "name": "stderr",
     "output_type": "stream",
     "text": [
      "2021-07-20 16:58:29 INFO: Loading these models for language: ru (Russian):\n",
      "=========================\n",
      "| Processor | Package   |\n",
      "-------------------------\n",
      "| tokenize  | syntagrus |\n",
      "| ner       | wikiner   |\n",
      "=========================\n",
      "\n",
      "2021-07-20 16:58:29 INFO: Use device: cpu\n",
      "2021-07-20 16:58:29 INFO: Loading: tokenize\n",
      "2021-07-20 16:58:29 INFO: Loading: ner\n",
      "2021-07-20 16:58:30 INFO: Done loading processors!\n"
     ]
    },
    {
     "name": "stdout",
     "output_type": "stream",
     "text": [
      "token: Проконтролировать\tner: O \n",
      " [{\n",
      "  \"id\": 1,\n",
      "  \"text\": \"Проконтролировать\",\n",
      "  \"start_char\": 0,\n",
      "  \"end_char\": 17\n",
      "}]\n",
      "token: Путину\tner: S-PER \n",
      " [{\n",
      "  \"id\": 2,\n",
      "  \"text\": \"Путину\",\n",
      "  \"start_char\": 18,\n",
      "  \"end_char\": 24\n",
      "}]\n",
      "token: Собянин\tner: B-MISC \n",
      " [{\n",
      "  \"id\": 3,\n",
      "  \"text\": \"Собянин\",\n",
      "  \"start_char\": 25,\n",
      "  \"end_char\": 32\n",
      "}]\n",
      "token: Магистратль\tner: E-MISC \n",
      " [{\n",
      "  \"id\": 4,\n",
      "  \"text\": \"Магистратль\",\n",
      "  \"start_char\": 33,\n",
      "  \"end_char\": 44\n",
      "}]\n",
      "token: исправность\tner: O \n",
      " [{\n",
      "  \"id\": 5,\n",
      "  \"text\": \"исправность\",\n",
      "  \"start_char\": 45,\n",
      "  \"end_char\": 56\n",
      "}]\n",
      "token: системы\tner: O \n",
      " [{\n",
      "  \"id\": 6,\n",
      "  \"text\": \"системы\",\n",
      "  \"start_char\": 57,\n",
      "  \"end_char\": 64\n",
      "}]\n",
      "token: смогут\tner: O \n",
      " [{\n",
      "  \"id\": 7,\n",
      "  \"text\": \"смогут\",\n",
      "  \"start_char\": 65,\n",
      "  \"end_char\": 71\n",
      "}]\n",
      "token: не\tner: O \n",
      " [{\n",
      "  \"id\": 8,\n",
      "  \"text\": \"не\",\n",
      "  \"start_char\": 72,\n",
      "  \"end_char\": 74\n",
      "}]\n",
      "token: только\tner: O \n",
      " [{\n",
      "  \"id\": 9,\n",
      "  \"text\": \"только\",\n",
      "  \"start_char\": 75,\n",
      "  \"end_char\": 81\n",
      "}]\n",
      "token: разработчики\tner: O \n",
      " [{\n",
      "  \"id\": 10,\n",
      "  \"text\": \"разработчики\",\n",
      "  \"start_char\": 82,\n",
      "  \"end_char\": 94\n",
      "}]\n",
      "token: и\tner: O \n",
      " [{\n",
      "  \"id\": 11,\n",
      "  \"text\": \"и\",\n",
      "  \"start_char\": 95,\n",
      "  \"end_char\": 96\n",
      "}]\n",
      "token: обычные\tner: O \n",
      " [{\n",
      "  \"id\": 12,\n",
      "  \"text\": \"обычные\",\n",
      "  \"start_char\": 97,\n",
      "  \"end_char\": 104\n",
      "}]\n",
      "token: москвичи\tner: O \n",
      " [{\n",
      "  \"id\": 13,\n",
      "  \"text\": \"москвичи\",\n",
      "  \"start_char\": 105,\n",
      "  \"end_char\": 113\n",
      "}]\n",
      "token: ,\tner: O \n",
      " [{\n",
      "  \"id\": 14,\n",
      "  \"text\": \",\",\n",
      "  \"start_char\": 113,\n",
      "  \"end_char\": 114\n",
      "}]\n"
     ]
    }
   ],
   "source": [
    "nlp = stanza.Pipeline(lang='ru', processors='tokenize,ner')\n",
    "doc = nlp(\"Проконтролировать Путину Собянин Магистратль исправность системы смогут не только разработчики и обычные москвичи,\")\n",
    "print(*[f'token: {token.text}\\tner: {token.ner} \\n {token.words}' for sent in doc.sentences for token in sent.tokens], sep='\\n')"
   ]
  },
  {
   "cell_type": "code",
   "execution_count": 20,
   "metadata": {},
   "outputs": [
    {
     "name": "stderr",
     "output_type": "stream",
     "text": [
      "2021-07-20 16:39:44 INFO: Loading these models for language: ru (Russian):\n",
      "=========================\n",
      "| Processor | Package   |\n",
      "-------------------------\n",
      "| tokenize  | syntagrus |\n",
      "| pos       | syntagrus |\n",
      "=========================\n",
      "\n",
      "2021-07-20 16:39:44 INFO: Use device: cpu\n",
      "2021-07-20 16:39:44 INFO: Loading: tokenize\n",
      "2021-07-20 16:39:45 INFO: Loading: pos\n",
      "2021-07-20 16:39:45 INFO: Done loading processors!\n"
     ]
    },
    {
     "name": "stdout",
     "output_type": "stream",
     "text": [
      "word: Проконтролировать\tupos: VERB\txpos: None\tfeats: Aspect=Perf|VerbForm=Inf|Voice=Act\n",
      "word: Путин\tupos: PROPN\txpos: None\tfeats: Animacy=Anim|Case=Nom|Gender=Masc|Number=Sing\n",
      "word: Собянин\tupos: PROPN\txpos: None\tfeats: Animacy=Anim|Case=Acc|Gender=Masc|Number=Sing\n",
      "word: Магистратль\tupos: PROPN\txpos: None\tfeats: Animacy=Anim|Case=Acc|Gender=Masc|Number=Sing\n",
      "word: исправность\tupos: NOUN\txpos: None\tfeats: Animacy=Inan|Case=Acc|Gender=Fem|Number=Sing\n",
      "word: системы\tupos: NOUN\txpos: None\tfeats: Animacy=Inan|Case=Gen|Gender=Fem|Number=Sing\n",
      "word: смогут\tupos: VERB\txpos: None\tfeats: Aspect=Perf|Mood=Ind|Number=Plur|Person=3|Tense=Fut|VerbForm=Fin|Voice=Act\n",
      "word: не\tupos: PART\txpos: None\tfeats: _\n",
      "word: только\tupos: PART\txpos: None\tfeats: _\n",
      "word: разработчики\tupos: NOUN\txpos: None\tfeats: Animacy=Anim|Case=Nom|Gender=Masc|Number=Plur\n",
      "word: и\tupos: CCONJ\txpos: None\tfeats: _\n",
      "word: обычные\tupos: ADJ\txpos: None\tfeats: Case=Nom|Degree=Pos|Number=Plur\n",
      "word: москвичи\tupos: NOUN\txpos: None\tfeats: Animacy=Anim|Case=Nom|Gender=Masc|Number=Plur\n",
      "word: ,\tupos: PUNCT\txpos: None\tfeats: _\n"
     ]
    }
   ],
   "source": [
    "nlp = stanza.Pipeline(lang='ru', processors='tokenize,pos')\n",
    "doc = nlp('Проконтролировать Путин Собянин Магистратль исправность системы смогут не только разработчики и обычные москвичи,')\n",
    "print(*[f'word: {word.text}\\tupos: {word.upos}\\txpos: {word.xpos}\\tfeats: {word.feats if word.feats else \"_\"}' for sent in doc.sentences for word in sent.words], sep='\\n')"
   ]
  },
  {
   "cell_type": "code",
   "execution_count": null,
   "metadata": {},
   "outputs": [],
   "source": []
  },
  {
   "cell_type": "code",
   "execution_count": null,
   "metadata": {},
   "outputs": [],
   "source": []
  },
  {
   "cell_type": "raw",
   "metadata": {},
   "source": [
    "from deeppavlov import configs, build_model\n",
    "from deeppavlov import build_model, configs\n",
    "\n",
    "ner_model = build_model(configs.ner.ner_ontonotes_bert, download=True)\n",
    "result = ner_model([russian_text])\n",
    "for i in range(len(result[0][0])):\n",
    "     if result [1][0][i] != 'O':\n",
    "         print(result[0][0][i], result[1][0][i])"
   ]
  },
  {
   "cell_type": "code",
   "execution_count": 36,
   "metadata": {},
   "outputs": [],
   "source": [
    "from natasha import (\n",
    "    Segmenter,\n",
    "    MorphVocab,\n",
    "    \n",
    "    NewsEmbedding,\n",
    "    NewsMorphTagger,\n",
    "    NewsSyntaxParser,\n",
    "    NewsNERTagger,\n",
    "    \n",
    "    PER,\n",
    "    NamesExtractor,\n",
    "\n",
    "    Doc\n",
    ")"
   ]
  },
  {
   "cell_type": "code",
   "execution_count": 37,
   "metadata": {},
   "outputs": [],
   "source": [
    "segmenter = Segmenter()\n",
    "morph_vocab = MorphVocab()\n",
    "\n",
    "emb = NewsEmbedding()\n",
    "morph_tagger = NewsMorphTagger(emb)\n",
    "syntax_parser = NewsSyntaxParser(emb)\n",
    "ner_tagger = NewsNERTagger(emb)\n",
    "names_extractor = NamesExtractor(morph_vocab)\n"
   ]
  },
  {
   "cell_type": "code",
   "execution_count": 38,
   "metadata": {},
   "outputs": [],
   "source": [
    "text = 'Посол Израиля на Украине Йоэль Лион признался, что пришел в шок, узнав о решении властей Львовской области объявить 2019 год годом лидера запрещенной в России Организации украинских националистов (ОУН) Степана Бандеры. Свое заявление он разместил в Twitter. «Я не могу понять, как прославление тех, кто непосредственно принимал участие в ужасных антисемитских преступлениях, помогает бороться с антисемитизмом и ксенофобией. Украина не должна забывать о преступлениях, совершенных против украинских евреев, и никоим образом не отмечать их через почитание их исполнителей», — написал дипломат. 11 декабря Львовский областной совет принял решение провозгласить 2019 год в регионе годом Степана Бандеры в связи с празднованием 110-летия со дня рождения лидера ОУН (Бандера родился 1 января 1909 года). В июле аналогичное решение принял Житомирский областной совет. В начале месяца с предложением к президенту страны Петру Порошенко вернуть Бандере звание Героя Украины обратились депутаты Верховной Рады. Парламентарии уверены, что признание Бандеры национальным героем поможет в борьбе с подрывной деятельностью против Украины в информационном поле, а также остановит «распространение мифов, созданных российской пропагандой». Степан Бандера (1909-1959) был одним из лидеров Организации украинских националистов, выступающей за создание независимого государства на территориях с украиноязычным населением. В 2010 году в период президентства Виктора Ющенко Бандера был посмертно признан Героем Украины, однако впоследствии это решение было отменено судом. '"
   ]
  },
  {
   "cell_type": "code",
   "execution_count": 39,
   "metadata": {},
   "outputs": [],
   "source": [
    "doc = Doc(text)"
   ]
  },
  {
   "cell_type": "code",
   "execution_count": 42,
   "metadata": {},
   "outputs": [
    {
     "name": "stdout",
     "output_type": "stream",
     "text": [
      "Посол Израиля на Украине Йоэль Лион признался, что пришел в шок, узнав\n",
      "      LOC────    LOC──── PER───────                                   \n",
      " о решении властей Львовской области объявить 2019 год годом лидера \n",
      "                   LOC──────────────                                \n",
      "запрещенной в России Организации украинских националистов (ОУН) \n",
      "              LOC─── ORG─────────────────────────────────────── \n",
      "Степана Бандеры. Свое заявление он разместил в Twitter. «Я не могу \n",
      "PER────────────                                ORG────             \n",
      "понять, как прославление тех, кто непосредственно принимал участие в \n",
      "ужасных антисемитских преступлениях, помогает бороться с \n",
      "антисемитизмом и ксенофобией. Украина не должна забывать о \n",
      "                              LOC────                      \n",
      "преступлениях, совершенных против украинских евреев, и никоим образом \n",
      "не отмечать их через почитание их исполнителей», — написал дипломат. \n",
      "11 декабря Львовский областной совет принял решение провозгласить 2019\n",
      "           ORG──────────────────────                                  \n",
      " год в регионе годом Степана Бандеры в связи с празднованием 110-летия\n",
      "                     PER────────────                                  \n",
      " со дня рождения лидера ОУН (Бандера родился 1 января 1909 года). В \n",
      "                        ORG                                         \n",
      "июле аналогичное решение принял Житомирский областной совет. В начале \n",
      "                                ORG────────────────────────           \n",
      "месяца с предложением к президенту страны Петру Порошенко вернуть \n",
      "                                          PER────────────         \n",
      "Бандере звание Героя Украины обратились депутаты Верховной Рады. \n",
      "PER────              LOC────                     ORG───────────  \n",
      "Парламентарии уверены, что признание Бандеры национальным героем \n",
      "                                     PER────                     \n",
      "поможет в борьбе с подрывной деятельностью против Украины в \n",
      "                                                  LOC────   \n",
      "информационном поле, а также остановит «распространение мифов, \n",
      "созданных российской пропагандой». Степан Бандера (1909-1959) был \n",
      "                                   PER───────────                 \n",
      "одним из лидеров Организации украинских националистов, выступающей за \n",
      "                 ORG─────────────────────────────────                 \n",
      "создание независимого государства на территориях с украиноязычным \n",
      "населением. В 2010 году в период президентства Виктора Ющенко Бандера \n",
      "                                               PER─────────── PER──── \n",
      "был посмертно признан Героем Украины, однако впоследствии это решение \n",
      "                             LOC────                                  \n",
      "было отменено судом. \n"
     ]
    }
   ],
   "source": [
    "#doc.tag_ner(ner_tagger)\n",
    "doc.ner.print()"
   ]
  },
  {
   "cell_type": "raw",
   "metadata": {},
   "source": [
    "for span in doc.spans:\n",
    "    if span.type == PER:\n",
    "        span.extract_fact(names_extractor)\n",
    "\n",
    "#print(doc.spans[:5])\n"
   ]
  },
  {
   "cell_type": "code",
   "execution_count": 4,
   "metadata": {},
   "outputs": [
    {
     "name": "stdout",
     "output_type": "stream",
     "text": [
      "file_name.xlsx\n"
     ]
    }
   ],
   "source": [
    "image_url='/data/folder1/file_name.xlsx'\n",
    "\n",
    "print (image_url.split(\"/\")[-1])"
   ]
  },
  {
   "cell_type": "code",
   "execution_count": 3,
   "metadata": {},
   "outputs": [],
   "source": [
    "import pathlib\n",
    "\n",
    "pathlib.Path(\"/tmp/images\").mkdir(parents=True, exist_ok=True)"
   ]
  },
  {
   "cell_type": "raw",
   "metadata": {},
   "source": [
    "docker run \\\n",
    "-ti \\\n",
    "-p 8080:8080 \\\n",
    "-v ➥ /path/to/dag/download_rocket_launches.py:/opt/airflow/dags/\n",
    "    download_rocket_launches.py \\\n",
    "--entrypoint=/bin/bash \\\n",
    "--name airflow \\\n",
    "apache/airflow:2.0.0-python3.8 \\\n",
    "-c '( \\\n",
    "airflow db init && \\\n",
    "➥ airflow users create --username admin --password admin --firstname\n",
    "    Anonymous --lastname Admin --role Admin --email admin@example.org \\\n",
    "); \\\n",
    "airflow webserver & \\\n",
    "airflow scheduler \\\n",
    "'"
   ]
  },
  {
   "cell_type": "code",
   "execution_count": null,
   "metadata": {},
   "outputs": [],
   "source": []
  },
  {
   "cell_type": "code",
   "execution_count": 2,
   "metadata": {},
   "outputs": [
    {
     "name": "stdout",
     "output_type": "stream",
     "text": [
      "macOS-10.16-x86_64-i386-64bit\n",
      "Python 3.9.7 (default, Sep 16 2021, 08:50:36) \n",
      "[Clang 10.0.0 ]\n",
      "NumPy 1.20.3\n",
      "SciPy 1.7.1\n"
     ]
    }
   ],
   "source": [
    "import platform; print(platform.platform())\n",
    "import sys; print(\"Python\", sys.version)\n",
    "import numpy; print(\"NumPy\", numpy.__version__)\n",
    "import scipy; print(\"SciPy\", scipy.__version__)\n",
    "#import gensim; print(\"gensim\", gensim.__version__)"
   ]
  },
  {
   "cell_type": "code",
   "execution_count": 3,
   "metadata": {},
   "outputs": [],
   "source": [
    "#DataFrame https://pandas.pydata.org/Pandas_Cheat_Sheet.pdf\n",
    "#https://www.kaggle.com/code/kashnitsky/topic-1-exploratory-data-analysis-with-pandas/notebook\n",
    "#https://pandas.pydata.org/docs/pandas.pdf"
   ]
  },
  {
   "cell_type": "code",
   "execution_count": 2,
   "metadata": {},
   "outputs": [],
   "source": [
    "#python -m pdb youscript.py\n"
   ]
  },
  {
   "cell_type": "code",
   "execution_count": 3,
   "metadata": {},
   "outputs": [],
   "source": [
    "#NewProject #pipenv\n",
    "#mkdir example\n",
    "#cd example\n",
    "#pipenv install ipykernel --dev\n",
    "#pipenv run ipython kernel install --user --name=example\n"
   ]
  },
  {
   "cell_type": "code",
   "execution_count": 4,
   "metadata": {},
   "outputs": [
    {
     "data": {
      "text/plain": [
       "sys.version_info(major=3, minor=9, micro=7, releaselevel='final', serial=0)"
      ]
     },
     "execution_count": 4,
     "metadata": {},
     "output_type": "execute_result"
    }
   ],
   "source": [
    "import sys \n",
    "sys.version_info"
   ]
  },
  {
   "cell_type": "code",
   "execution_count": 15,
   "metadata": {},
   "outputs": [
    {
     "name": "stdout",
     "output_type": "stream",
     "text": [
      "(<AddressFamily.AF_INET: 2>, <SocketKind.SOCK_DGRAM: 2>, 17, '', ('10.60.20.1', 0)) AF_INET 10.60.20.1\n",
      "(<AddressFamily.AF_INET: 2>, <SocketKind.SOCK_STREAM: 1>, 6, '', ('10.60.20.1', 0)) AF_INET 10.60.20.1\n"
     ]
    }
   ],
   "source": [
    "import socket\n",
    "hostname = socket.gethostname()\n",
    "\n",
    "addresses = socket.getaddrinfo(hostname, None)\n",
    "\n",
    "for address in addresses:\n",
    "    #print (address[0].name)\n",
    "    #print (address[4][0])\n",
    "    print (address, address[0].name, address[4][0])"
   ]
  },
  {
   "cell_type": "code",
   "execution_count": 17,
   "metadata": {},
   "outputs": [
    {
     "name": "stdout",
     "output_type": "stream",
     "text": [
      "scpustats(ctx_switches=6852, interrupts=141733, soft_interrupts=232774657, syscalls=219417) 21.1\n"
     ]
    }
   ],
   "source": [
    "import psutil\n",
    "print (psutil.cpu_stats(), psutil.cpu_percent())"
   ]
  },
  {
   "cell_type": "code",
   "execution_count": 37,
   "metadata": {},
   "outputs": [
    {
     "name": "stdout",
     "output_type": "stream",
     "text": [
      "Version Python: 3.9\n",
      "ip-address: 10.60.20.1 (AF_INET)\n",
      "ip-address: 10.60.20.1 (AF_INET)\n",
      "CPU: 17.4\n",
      "Memory: 847.83984375 MiB\n",
      "Sensor: True\n"
     ]
    }
   ],
   "source": [
    "#server status\n",
    "import sys\n",
    "import socket\n",
    "import psutil\n",
    "import click\n",
    "\n",
    "HELP_TEXT='''\n",
    "python: {program_name:s}\n",
    "\n",
    "--help\n",
    "'''\n",
    "\n",
    "def python_version():\n",
    "    return sys.version_info\n",
    "\n",
    "def ip_address():\n",
    "    hostname = socket.gethostname()\n",
    "\n",
    "    addresses = socket.getaddrinfo(hostname, None)\n",
    "    address_info=[]\n",
    "    for address in addresses:\n",
    "        address_info.append((address[0].name, address[4][0]))\n",
    "    return address_info\n",
    "\n",
    "def cpu_load():\n",
    "    return psutil.cpu_percent()\n",
    "\n",
    "def ram_available():\n",
    "    return psutil.virtual_memory().available\n",
    "\n",
    "def ac_connected():\n",
    "    return psutil.sensors_battery().power_plugged\n",
    "    \n",
    "\n",
    "def show_sensors():\n",
    "    print (\"Version Python: {0.major}.{0.minor}\".format(python_version()))\n",
    "    for address in ip_address():\n",
    "        print (\"ip-address: {0[1]} ({0[0]})\".format(address))\n",
    "    print (\"CPU: {:.1f}\".format(cpu_load()))\n",
    "    print (\"Memory: {} MiB\".format(ram_available() / 1024**2))\n",
    "    print (\"Sensor: {}\".format(ac_connected()))\n",
    "    \n",
    "@click.command(help=\"Show sensor\")\n",
    "def command_line(argv):\n",
    "    program_name, *arguments = argv\n",
    "    if not arguments:\n",
    "        show_sensors()\n",
    "    elif arguments and arguments[0] == \"--help\":\n",
    "        print (HELP_TEXT.format(program_name=program_name))\n",
    "    return\n",
    "\n",
    "\n",
    "\n",
    "\n",
    "if __name__ == '__main__':\n",
    "    show_sensors()\n",
    "    "
   ]
  },
  {
   "cell_type": "code",
   "execution_count": 39,
   "metadata": {},
   "outputs": [
    {
     "name": "stdout",
     "output_type": "stream",
     "text": [
      "Version Python: 3.9\n",
      "ip-address: 10.60.20.1 (AF_INET)\n",
      "ip-address: 10.60.20.1 (AF_INET)\n",
      "CPU: 27.6\n",
      "Memory: 802.2890625 MiB\n",
      "Sensor: True\n",
      "None\n"
     ]
    }
   ],
   "source": [
    "print (show_sensors())"
   ]
  },
  {
   "cell_type": "code",
   "execution_count": 42,
   "metadata": {},
   "outputs": [
    {
     "name": "stdout",
     "output_type": "stream",
     "text": [
      "0.16666666666666666\n",
      "1/6\n"
     ]
    }
   ],
   "source": [
    "from fractions import Fraction\n",
    "y = 1/4 * 2/3\n",
    "print (y)\n",
    "x = Fraction('1/4') * Fraction ('2/3')\n",
    "print (x)"
   ]
  },
  {
   "cell_type": "code",
   "execution_count": 48,
   "metadata": {},
   "outputs": [],
   "source": [
    "import pytest\n",
    "from collections import namedtuple\n",
    "\n",
    "@pytest.fixture\n",
    "def version():\n",
    "    return namedtuple('sys_version', ('major', 'minor', 'micro', 'releaselevel', 'serial'))\n",
    "    \n"
   ]
  },
  {
   "cell_type": "code",
   "execution_count": 51,
   "metadata": {},
   "outputs": [
    {
     "name": "stdout",
     "output_type": "stream",
     "text": [
      "23.0\n"
     ]
    }
   ],
   "source": [
    "print (cpu_load())"
   ]
  },
  {
   "cell_type": "raw",
   "metadata": {},
   "source": [
    "with open(\"README\", \"rt\", encoding=\"utf-8\") as readme_file:\n",
    "    readme_text = readme_file.read()"
   ]
  },
  {
   "cell_type": "raw",
   "metadata": {},
   "source": [
    "lines = [line for line in output.split(b\"\\n\") if line ]\n",
    "yield_total = float(found[b\"yield_total\"][:-3].replace(b\".\", b\"\"))\n"
   ]
  },
  {
   "cell_type": "raw",
   "metadata": {},
   "source": [
    "import wsgiref.simple_server\n",
    "\n",
    "def hello_world (environ, start_response):\n",
    "    headers = [\n",
    "        (\"Content-type\", \"text/plain; charset=utf-8\"),\n",
    "        (\"Content-Security-Policy\", \"default-src 'none';\"),\n",
    "    ]\n",
    "    start_response(\"200 OK\", headers)\n",
    "    return [b\"Hello world\"]\n",
    "if __name = \"__main__\":\n",
    "    with wsgiref.simple_server.make_server(\"\", 8000, hello_world) as \n",
    "    server:\n",
    "        server.server_forever()"
   ]
  },
  {
   "cell_type": "raw",
   "metadata": {},
   "source": [
    "import json \n",
    "import typing as t \n",
    "import wsgiref.simple_server\n",
    "from flask import Flask\n",
    "from apd.sensors.cli import get_sensors\n",
    "\n",
    "app = Flask(__name__)\n",
    "\n",
    "@app.route (\"/sensors/\")\n",
    "def sensor_values() -> t.Tuple[t.Dict[str, t.Any], int, t.Dict[str, str]]:\n",
    "    headers ={\"Content-Security-Policy: default-src 'none'\"}\n",
    "    data={}\n",
    "    for sensor in get_sensors():\n",
    "        data[sensor.title]=sensor.value()\n",
    "    return data,  200, headers\n",
    "\n",
    "if __name__=\"__main__\":\n",
    "    with wsgiref.simple_server.make_server(\"\", 8000, app) as server:\n",
    "        server.server_forever()\n",
    "        "
   ]
  },
  {
   "cell_type": "code",
   "execution_count": 8,
   "metadata": {},
   "outputs": [
    {
     "data": {
      "text/plain": [
       "16"
      ]
     },
     "execution_count": 8,
     "metadata": {},
     "output_type": "execute_result"
    }
   ],
   "source": [
    "#Проверка аргумента\n",
    "\n",
    "def has_negative_arguments(*args):\n",
    "    for arg in args:\n",
    "        if arg < 0:\n",
    "            return True\n",
    "        return False\n",
    "    \n",
    "def power(x , y):\n",
    "    if has_negative_arguments(x, y):\n",
    "        return 0 \n",
    "    return x ** y\n",
    "\n",
    "power (4 , 2)"
   ]
  },
  {
   "cell_type": "code",
   "execution_count": 11,
   "metadata": {},
   "outputs": [
    {
     "data": {
      "text/plain": [
       "16"
      ]
     },
     "execution_count": 11,
     "metadata": {},
     "output_type": "execute_result"
    }
   ],
   "source": [
    "\n",
    "def disallow_negative(func):\n",
    "    def inner(*args):\n",
    "        for arg in args:\n",
    "            if arg < 0:\n",
    "                return 0\n",
    "            return func(*args)\n",
    "    return inner\n",
    "\n",
    "@disallow_negative\n",
    "def power2(x, y):\n",
    "    return x ** y\n",
    "\n",
    "\n",
    "power2 (4, 2)"
   ]
  },
  {
   "cell_type": "code",
   "execution_count": 12,
   "metadata": {},
   "outputs": [
    {
     "name": "stdout",
     "output_type": "stream",
     "text": [
      "a: 3, b: 2, c: 6\n",
      "Return c: 6\n",
      "6\n"
     ]
    }
   ],
   "source": [
    "def example(x, y):\n",
    "    a = x + y\n",
    "    b = x * y\n",
    "    c = b * a\n",
    "    print (f\"a: {a}, b: {b}, c: {c}\")\n",
    "    def get_value_of_c():\n",
    "        print (f\"Return c: {c}\")\n",
    "        return c\n",
    "    return get_value_of_c\n",
    "\n",
    "\n",
    "getter = example (1, 2)\n",
    "print (getter())"
   ]
  },
  {
   "cell_type": "code",
   "execution_count": 13,
   "metadata": {},
   "outputs": [
    {
     "name": "stdout",
     "output_type": "stream",
     "text": [
      "<function private_variable.<locals>.get at 0x7fc8a8b86160> <function private_variable.<locals>.set at 0x7fc8a8b86040>\n",
      "<function private_variable.<locals>.get at 0x7fc8a8b869d0> <function private_variable.<locals>.set at 0x7fc8a8b86700>\n",
      "a=10 b=None\n",
      "a=10 b=4\n"
     ]
    }
   ],
   "source": [
    "def private_variable():\n",
    "    value = None\n",
    "    def set(new_value):\n",
    "        nonlocal value\n",
    "        value = new_value\n",
    "    def get():\n",
    "        return value\n",
    "    return set, get\n",
    "\n",
    "a_set, a_get = private_variable()\n",
    "b_set, b_get = private_variable()\n",
    "\n",
    "print (a_get,  a_set)\n",
    "\n",
    "print (b_get, b_set)\n",
    "\n",
    "a_set(10)\n",
    "print (f\"a={a_get()} b={b_get()}\")\n",
    "\n",
    "b_set(4)\n",
    "print (f\"a={a_get()} b={b_get()}\")"
   ]
  },
  {
   "cell_type": "code",
   "execution_count": 15,
   "metadata": {},
   "outputs": [
    {
     "name": "stdout",
     "output_type": "stream",
     "text": [
      "Decorator <function add_five at 0x7fc8a8c99e50>\n",
      "<function outer.<locals>.inner at 0x7fc8a8c99ca0>\n",
      "Return <function add_five at 0x7fc8a8c99e50>(*(1,), **{})\n",
      "Return 6\n"
     ]
    },
    {
     "data": {
      "text/plain": [
       "6"
      ]
     },
     "execution_count": 15,
     "metadata": {},
     "output_type": "execute_result"
    }
   ],
   "source": [
    "def outer(func):\n",
    "    print (f\"Decorator {func}\")\n",
    "    def inner(*args, **kwargs):\n",
    "        print (f\"Return {func}(*{args}, **{kwargs})\")\n",
    "        value = func (*args, **kwargs)\n",
    "        print (f\"Return {value}\")\n",
    "        return value\n",
    "    return inner\n",
    "\n",
    "\n",
    "@outer\n",
    "def add_five(num):\n",
    "    return num+5\n",
    "\n",
    "\n",
    "print (add_five)\n",
    "add_five(1)"
   ]
  },
  {
   "cell_type": "code",
   "execution_count": 21,
   "metadata": {},
   "outputs": [
    {
     "name": "stdout",
     "output_type": "stream",
     "text": [
      "<function add_integer_to_all_arguments.<locals>.decorator.<locals>.inner at 0x7fc8a89c2820>\n",
      "10000000000\n",
      "<function add_integer_to_all_arguments.<locals>.decorator.<locals>.inner at 0x7fc8a89c2670>\n",
      "6\n"
     ]
    }
   ],
   "source": [
    "def add_integer_to_all_arguments(offset):\n",
    "    def decorator(func):\n",
    "        def inner(*args):\n",
    "            args = [arg + offset for arg in args]\n",
    "            return func(*args)\n",
    "        return inner\n",
    "    return decorator\n",
    "\n",
    "@add_integer_to_all_arguments(10)\n",
    "def power(x , y):\n",
    "    return x ** y\n",
    "\n",
    "@add_integer_to_all_arguments(3)\n",
    "def add(x, y):\n",
    "    return x + y\n",
    "\n",
    "print (power)\n",
    "print (power(0, 0))\n",
    "print (add)\n",
    "print (add (0 ,0))"
   ]
  },
  {
   "cell_type": "raw",
   "metadata": {},
   "source": [
    "import pytest \n",
    "from webtest import TestApp\n",
    "\n",
    "from apd.sensors.wsgi import app, set_up_config\n",
    "from apd.sensors.sensors import PythonVersion \n",
    "\n",
    "@pytest.fixture\n",
    "def api_key():\n",
    "    return \"Test API Key\"\n",
    "\n"
   ]
  },
  {
   "cell_type": "raw",
   "metadata": {},
   "source": [
    "class DataPopint(Base):\n",
    "    __tablename__ = \"sensor_values\"\n",
    "    id = sqlalchemy.Column(sqlalchemy.Integer, primary_key=True)\n",
    "    sensor_name = sqlalchemy.Column(sqlalchemy.String)\n",
    "    collected_at = sqlalchemy.Column(TIMESTAMP)\n",
    "    data = sqlalchemy.Column(JSONB)\n",
    "    "
   ]
  },
  {
   "cell_type": "raw",
   "metadata": {},
   "source": [
    "def generator() -> t.Iterable[int]:\n",
    "    print (\"Start\")\n",
    "    yield 1\n",
    "    print (\"Middle\")\n",
    "    yield 2\n",
    "    print (\"End\")"
   ]
  },
  {
   "cell_type": "code",
   "execution_count": 24,
   "metadata": {},
   "outputs": [],
   "source": [
    "def add_to_session(session):\n",
    "    for item in generator:\n",
    "        session.add(item)\n",
    "        yield item"
   ]
  },
  {
   "cell_type": "code",
   "execution_count": 25,
   "metadata": {},
   "outputs": [
    {
     "name": "stdout",
     "output_type": "stream",
     "text": [
      "Hello word\n"
     ]
    }
   ],
   "source": [
    "import threading\n",
    "\n",
    "def helloword():\n",
    "    print (\"Hello word\")\n",
    "    \n",
    "thread = threading.Thread(\n",
    "    target = helloword,\n",
    "    name = \"helloworld\"\n",
    ")\n",
    "thread.start()\n",
    "thread.join()"
   ]
  },
  {
   "cell_type": "code",
   "execution_count": 26,
   "metadata": {},
   "outputs": [
    {
     "name": "stdout",
     "output_type": "stream",
     "text": [
      "Hello Word\n"
     ]
    }
   ],
   "source": [
    "import threading\n",
    "class HelloWordThread(threading.Thread):\n",
    "    def run(self):\n",
    "        print (\"Hello Word\")\n",
    "        \n",
    "thread = HelloWordThread(name = \"helloword\")\n",
    "thread.start()\n",
    "thread.join()"
   ]
  },
  {
   "cell_type": "code",
   "execution_count": 27,
   "metadata": {},
   "outputs": [],
   "source": [
    "import threading\n",
    "\n",
    "numlock = threading.Lock()\n",
    "num = 0\n",
    "\n",
    "def increment():\n",
    "    global num\n",
    "    with numlock:\n",
    "        num += 1\n",
    "    return None "
   ]
  },
  {
   "cell_type": "raw",
   "metadata": {},
   "source": [
    "import asyncio\n",
    "\n",
    "async def increment():\n",
    "    return 1\n",
    "\n",
    "async def decrement():\n",
    "    return -1\n",
    "\n",
    "async def onehundred():\n",
    "    num = 0\n",
    "    for i in range(100):\n",
    "        num += await increment()\n",
    "        num += await decrement()\n",
    "    return num\n",
    "\n",
    "if __name__ == \"__main__\":\n",
    "    asyncio.run(onehundred())"
   ]
  },
  {
   "cell_type": "raw",
   "metadata": {},
   "source": [
    "data = get_data()\n",
    "print (await data)"
   ]
  },
  {
   "cell_type": "code",
   "execution_count": 30,
   "metadata": {},
   "outputs": [],
   "source": [
    "async def offset():\n",
    "    await asyncio.sleep(0)\n",
    "    return 1 "
   ]
  },
  {
   "cell_type": "code",
   "execution_count": 32,
   "metadata": {},
   "outputs": [
    {
     "data": {
      "text/plain": [
       "<coroutine object offset at 0x7fc8a8e322c0>"
      ]
     },
     "execution_count": 32,
     "metadata": {},
     "output_type": "execute_result"
    }
   ],
   "source": [
    "offset()"
   ]
  },
  {
   "cell_type": "raw",
   "metadata": {},
   "source": [
    "def get_independent_flask_app(name: str) -> flask.Flask:\n",
    "    \"\"\" Создать новое приложение Фласк с в20 АПИ чтобы несколько копий могли работать одновременно не конфликтуая \"\"\"\n",
    "    app = flask.Flask(name)\n",
    "    app.register_bluprint(v20.version, url_prefix=\"/v/2.0\")\n",
    "    return app"
   ]
  },
  {
   "cell_type": "raw",
   "metadata": {},
   "source": [
    "from dataclasses import dataclass, field\n",
    "\n",
    "@dataclass \n",
    "class FakeAIOHttpResponse:\n",
    "    url: str\n",
    "    body: str = field(repr=False)\n",
    "    status: int = 200\n",
    "    \n",
    "    async def json(self) -> t.Any:\n",
    "        return json.loads(self.body)"
   ]
  },
  {
   "cell_type": "raw",
   "metadata": {},
   "source": [
    "async with aiohttp.ClientSession() as http:\n",
    "    http_session_var.set(http)\n",
    "    tasks = [\n",
    "        get_data_points(server, api_key)\n",
    "        for server in serrvers\n",
    "    ]\n",
    "    "
   ]
  },
  {
   "cell_type": "raw",
   "metadata": {},
   "source": [
    "context = contextvars.copy_context()\n",
    "context.run(your_callable)"
   ]
  },
  {
   "cell_type": "raw",
   "metadata": {},
   "source": [
    "plt.plot_date(x, y, \"o\", xdate=True)"
   ]
  },
  {
   "cell_type": "raw",
   "metadata": {},
   "source": [
    "import collections\n",
    "from apd.aggregation.query import with_database, get_data\n",
    "\n",
    "async def plot():\n",
    "    legends = collections.defaultdict(list)\n",
    "    async for dp in get_data(sensor_name = \"Relativ\"):\n",
    "        legends[dp.deployment_id].append((dp.collected_at, dp.data)):\n",
    "            \n",
    "    for deployment_id, points in legend.items():\n",
    "        x, y = zip(*points)\n",
    "        plt.plot_date(x, y, \"o\", xdate=True)\n",
    "\n",
    "with with_datebase():\n",
    "    await plot()\n",
    "plt.show()\n",
    "            "
   ]
  },
  {
   "cell_type": "code",
   "execution_count": 41,
   "metadata": {},
   "outputs": [
    {
     "data": {
      "application/vnd.jupyter.widget-view+json": {
       "model_id": "4ed4976c768c4946b5073e717a4af4cf",
       "version_major": 2,
       "version_minor": 0
      },
      "text/plain": [
       "interactive(children=(IntSlider(value=100, description='x', max=300, min=-100), IntSlider(value=100, descripti…"
      ]
     },
     "metadata": {},
     "output_type": "display_data"
    }
   ],
   "source": [
    "import ipywidgets as widgets\n",
    "\n",
    "def add_numbers(x, y):\n",
    "    return print (x + y)\n",
    "\n",
    "interact = widgets.interactive(add_numbers, x=100, y=100)\n",
    "display(interact)"
   ]
  },
  {
   "cell_type": "code",
   "execution_count": 42,
   "metadata": {},
   "outputs": [],
   "source": [
    "import cProfile"
   ]
  },
  {
   "cell_type": "code",
   "execution_count": 44,
   "metadata": {},
   "outputs": [
    {
     "data": {
      "application/vnd.jupyter.widget-view+json": {
       "model_id": "eb0970b7396744d9a96cddea53d85e0e",
       "version_major": 2,
       "version_minor": 0
      },
      "text/plain": [
       "interactive(children=(IntSlider(value=100, description='x', max=300, min=-100), IntSlider(value=100, descripti…"
      ]
     },
     "metadata": {},
     "output_type": "display_data"
    },
    {
     "name": "stdout",
     "output_type": "stream",
     "text": [
      " "
     ]
    },
    {
     "data": {
      "text/plain": [
       "         61738 function calls (52865 primitive calls) in 0.041 seconds\n",
       "\n",
       "   Ordered by: cumulative time\n",
       "\n",
       "   ncalls  tottime  percall  cumtime  percall filename:lineno(function)\n",
       "        1    0.000    0.000    0.041    0.041 {built-in method builtins.exec}\n",
       "        1    0.000    0.000    0.041    0.041 <string>:1(<module>)\n",
       "        1    0.000    0.000    0.030    0.030 interaction.py:177(__init__)\n",
       "     10/4    0.000    0.000    0.027    0.007 widget.py:409(__init__)\n",
       "     10/4    0.000    0.000    0.026    0.006 widget.py:425(open)\n",
       "4035/1635    0.001    0.000    0.023    0.000 traitlets.py:566(__get__)\n",
       "     15/9    0.000    0.000    0.023    0.003 widget.py:492(get_state)\n",
       " 1253/775    0.001    0.000    0.023    0.000 traitlets.py:535(get)\n",
       "10105/5113    0.003    0.000    0.021    0.000 {built-in method builtins.getattr}\n",
       "  356/104    0.001    0.000    0.020    0.000 traitlets.py:1567(trait_defaults)\n",
       "   316/88    0.000    0.000    0.018    0.000 traitlets.py:502(default)\n",
       "        6    0.000    0.000    0.018    0.003 trait_types.py:167(make_dynamic_default)\n",
       "        1    0.000    0.000    0.014    0.014 interaction.py:294(widgets_from_abbreviations)\n",
       "        2    0.000    0.000    0.014    0.007 interaction.py:310(widget_from_abbrev)\n",
       "        2    0.000    0.000    0.014    0.007 interaction.py:346(widget_from_single_value)\n",
       "        2    0.000    0.000    0.013    0.006 widget_int.py:52(__init__)\n",
       "        2    0.000    0.000    0.013    0.006 widget_int.py:84(__init__)\n",
       "        2    0.000    0.000    0.013    0.006 widget_int.py:72(__init__)\n",
       "       45    0.001    0.000    0.011    0.000 traitlets.py:1594(traits)\n",
       "      2/1    0.000    0.000    0.010    0.010 display.py:131(display)\n",
       "        1    0.002    0.002    0.010    0.010 formatters.py:89(format)\n",
       "        1    0.000    0.000    0.010    0.010 widget_box.py:62(__init__)\n",
       "       10    0.000    0.000    0.009    0.001 comm.py:50(__init__)\n",
       "        1    0.000    0.000    0.008    0.008 decorator.py:229(fun)\n",
       "        1    0.000    0.000    0.008    0.008 formatters.py:220(catch_format_error)\n",
       "        1    0.000    0.000    0.008    0.008 formatters.py:903(__call__)\n",
       "       45    0.002    0.000    0.008    0.000 traitlets.py:219(getmembers)\n",
       "        1    0.000    0.000    0.008    0.008 widget.py:709(_ipython_display_)\n",
       "       10    0.000    0.000    0.005    0.001 comm.py:80(open)\n",
       "       69    0.005    0.000    0.005    0.000 {built-in method builtins.dir}\n",
       "       15    0.000    0.000    0.005    0.000 comm.py:61(_publish_msg)\n",
       "       24    0.000    0.000    0.005    0.000 traitlets.py:1020(__new__)\n",
       "       24    0.000    0.000    0.005    0.000 traitlets.py:1060(setup_instance)\n",
       "       24    0.001    0.000    0.004    0.000 traitlets.py:1035(setup_instance)\n",
       "      7/1    0.000    0.000    0.004    0.004 {built-in method builtins.repr}\n",
       "     10/1    0.000    0.000    0.004    0.004 widget.py:608(__repr__)\n",
       "    78/69    0.000    0.000    0.004    0.000 {method 'join' of 'str' objects}\n",
       "     10/1    0.000    0.000    0.004    0.004 widget.py:757(_gen_repr_from_keys)\n",
       "     20/3    0.000    0.000    0.004    0.001 widget.py:759(<genexpr>)\n",
       "       46    0.000    0.000    0.004    0.000 traitlets.py:974(__call__)\n",
       "       25    0.000    0.000    0.004    0.000 widget.py:739(_repr_keys)\n",
       "  409/399    0.002    0.000    0.003    0.000 traitlets.py:1231(_notify_observers)\n",
       "       16    0.000    0.000    0.003    0.000 domwidget.py:40(_repr_keys)\n",
       "    81/71    0.000    0.000    0.003    0.000 traitlets.py:579(set)\n",
       "    63/53    0.000    0.000    0.003    0.000 traitlets.py:597(__set__)\n",
       "       10    0.000    0.000    0.003    0.000 configurable.py:50(__init__)\n",
       "       17    0.000    0.000    0.003    0.000 session.py:662(send)\n",
       "       10    0.000    0.000    0.003    0.000 widget.py:396(_default_keys)\n",
       "       23    0.000    0.000    0.003    0.000 widget.py:596(notify_change)\n",
       "      4/1    0.000    0.000    0.003    0.003 widget.py:695(_handle_displayed)\n",
       "      4/1    0.000    0.000    0.003    0.003 widget.py:181(__call__)\n",
       "    53/43    0.000    0.000    0.003    0.000 traitlets.py:1218(_notify_trait)\n",
       "        1    0.000    0.000    0.002    0.002 interaction.py:236(update)\n",
       "       10    0.000    0.000    0.002    0.000 configurable.py:153(_load_config)\n",
       "        8    0.000    0.000    0.002    0.000 iostream.py:451(flush)\n",
       "       17    0.000    0.000    0.002    0.000 session.py:603(serialize)\n",
       "        5    0.000    0.000    0.002    0.000 widget.py:473(send_state)\n",
       "    12693    0.001    0.000    0.002    0.000 {built-in method builtins.isinstance}\n",
       "        8    0.000    0.000    0.002    0.000 threading.py:556(wait)\n",
       "        8    0.000    0.000    0.002    0.000 threading.py:280(wait)\n",
       "       76    0.002    0.000    0.002    0.000 {method 'acquire' of '_thread.lock' objects}\n",
       "   405/31    0.001    0.000    0.001    0.000 jsonutil.py:74(json_clean)\n",
       "      356    0.001    0.000    0.001    0.000 traitlets.py:1542(_get_trait_default_generator)\n",
       "       45    0.001    0.000    0.001    0.000 traitlets.py:1608(<listcomp>)\n",
       "       24    0.000    0.000    0.001    0.000 traitlets.py:1070(__init__)\n",
       "  786/780    0.000    0.000    0.001    0.000 {built-in method builtins.next}\n",
       "  390/387    0.000    0.000    0.001    0.000 contextlib.py:123(__exit__)\n",
       "       68    0.000    0.000    0.001    0.000 session.py:82(<lambda>)\n",
       "       10    0.000    0.000    0.001    0.000 widget_description.py:27(_repr_keys)\n",
       "       68    0.000    0.000    0.001    0.000 jsonapi.py:20(dumps)\n",
       "        2    0.000    0.000    0.001    0.001 zmqshell.py:70(_flush_streams)\n",
       "       68    0.000    0.000    0.001    0.000 __init__.py:183(dumps)\n",
       "        2    0.000    0.000    0.001    0.001 widget_output.py:129(_flush)\n",
       "       10    0.000    0.000    0.001    0.000 manager.py:44(register_comm)\n",
       "        1    0.000    0.000    0.001    0.001 widget_output.py:107(__enter__)\n",
       "        1    0.000    0.000    0.001    0.001 widget_output.py:115(__exit__)\n",
       "        1    0.000    0.000    0.001    0.001 display.py:81(publish_display_data)\n",
       "  442/437    0.000    0.000    0.001    0.000 traitlets.py:608(_validate)\n",
       "        1    0.000    0.000    0.001    0.001 zmqshell.py:87(publish)\n",
       "       68    0.000    0.000    0.001    0.000 encoder.py:182(encode)\n",
       "        5    0.000    0.000    0.001    0.000 widget.py:734(_send)\n",
       "       68    0.000    0.000    0.001    0.000 traitlets.py:1152(hold_trait_notifications)\n",
       "        5    0.000    0.000    0.001    0.000 comm.py:120(send)\n",
       "       36    0.000    0.000    0.001    0.000 iostream.py:206(schedule)\n",
       "       68    0.001    0.000    0.001    0.000 encoder.py:204(iterencode)\n",
       "    53/43    0.000    0.000    0.001    0.000 traitlets.py:1227(notify_change)\n",
       "       17    0.000    0.000    0.001    0.000 session.py:588(sign)\n",
       "      272    0.000    0.000    0.001    0.000 traitlets.py:1626(trait_metadata)\n",
       "       10    0.000    0.000    0.001    0.000 comm.py:26(_default_comm_id)\n",
       "      390    0.000    0.000    0.001    0.000 contextlib.py:261(helper)\n",
       "       36    0.001    0.000    0.001    0.000 socket.py:474(send)\n",
       "       10    0.000    0.000    0.001    0.000 uuid.py:713(uuid4)\n",
       "        1    0.000    0.000    0.001    0.001 display.py:1462(clear_output)\n",
       "        1    0.000    0.000    0.001    0.001 zmqshell.py:142(clear_output)\n",
       "     1245    0.000    0.000    0.001    0.000 bunch.py:11(__getattr__)\n",
       "       10    0.000    0.000    0.000    0.000 configurable.py:128(_find_my_config)\n",
       "       17    0.000    0.000    0.000    0.000 iostream.py:281(send_multipart)\n",
       "     5678    0.000    0.000    0.000    0.000 {method 'append' of 'list' objects}\n",
       "     4083    0.000    0.000    0.000    0.000 {method 'get' of 'dict' objects}\n",
       "       17    0.000    0.000    0.000    0.000 iostream.py:218(send_multipart)\n",
       "      390    0.000    0.000    0.000    0.000 contextlib.py:114(__enter__)\n",
       "      937    0.000    0.000    0.000    0.000 {built-in method builtins.hasattr}\n",
       "       14    0.000    0.000    0.000    0.000 valuewidget.py:22(_repr_keys)\n",
       "      392    0.000    0.000    0.000    0.000 traitlets.py:1494(has_trait)\n",
       "       46    0.000    0.000    0.000    0.000 traitlets.py:1870(make_dynamic_default)\n",
       "       17    0.000    0.000    0.000    0.000 session.py:569(msg)\n",
       "      390    0.000    0.000    0.000    0.000 contextlib.py:86(__init__)\n",
       "       17    0.000    0.000    0.000    0.000 hmac.py:115(copy)\n",
       "       10    0.000    0.000    0.000    0.000 {built-in method posix.urandom}\n",
       "      188    0.000    0.000    0.000    0.000 widget.py:528(_compare)\n",
       "        1    0.000    0.000    0.000    0.000 widget_box.py:67(_fire_children_displayed)\n",
       "      792    0.000    0.000    0.000    0.000 abc.py:117(__instancecheck__)\n",
       "       17    0.000    0.000    0.000    0.000 session.py:566(msg_header)\n",
       "       18    0.000    0.000    0.000    0.000 {built-in method builtins.setattr}\n",
       "      142    0.000    0.000    0.000    0.000 traitlets.py:1862(instance_init)\n",
       "      376    0.000    0.000    0.000    0.000 widget.py:525(_is_numpy)\n",
       "       10    0.000    0.000    0.000    0.000 widget.py:440(_comm_changed)\n",
       "       15    0.000    0.000    0.000    0.000 widget.py:118(_remove_buffers)\n",
       "       45    0.000    0.000    0.000    0.000 {method 'sort' of 'list' objects}\n",
       "       34    0.000    0.000    0.000    0.000 jsonutil.py:84(date_default)\n",
       "        2    0.000    0.000    0.000    0.000 widget.py:573(on_displayed)\n",
       "    22/15    0.000    0.000    0.000    0.000 widget.py:73(_separate_buffers)\n",
       "      792    0.000    0.000    0.000    0.000 {built-in method _abc._abc_instancecheck}\n",
       "        1    0.000    0.000    0.000    0.000 interaction.py:275(find_abbreviations)\n",
       "       10    0.000    0.000    0.000    0.000 comm.py:137(on_msg)\n",
       "       23    0.000    0.000    0.000    0.000 traitlets.py:2499(validate)\n",
       "       17    0.000    0.000    0.000    0.000 session.py:218(msg_header)\n",
       "        3    0.000    0.000    0.000    0.000 inspect.py:2244(_signature_from_callable)\n",
       "        3    0.000    0.000    0.000    0.000 traitlets.py:2338(validate)\n",
       "       66    0.000    0.000    0.000    0.000 traitlets.py:617(_cross_validate)\n",
       "      712    0.000    0.000    0.000    0.000 traitlets.py:1132(cross_validation_lock)\n",
       "        5    0.000    0.000    0.000    0.000 widget.py:644(_should_send_property)\n",
       "       34    0.000    0.000    0.000    0.000 {method 'isoformat' of 'datetime.datetime' objects}\n",
       "        1    0.000    0.000    0.000    0.000 interaction.py:272(signature)\n",
       "       20    0.000    0.000    0.000    0.000 traitlets.py:993(instance_init)\n",
       "        1    0.000    0.000    0.000    0.000 inspect.py:3109(signature)\n",
       "       17    0.000    0.000    0.000    0.000 session.py:149(utcnow)\n",
       "       30    0.000    0.000    0.000    0.000 loader.py:306(_has_section)\n",
       "       32    0.000    0.000    0.000    0.000 traitlets.py:1327(observe)\n",
       "     1670    0.000    0.000    0.000    0.000 {method 'extend' of 'list' objects}\n",
       "        1    0.000    0.000    0.000    0.000 inspect.py:2857(from_callable)\n",
       "       30    0.000    0.000    0.000    0.000 traitlets.py:2528(instance_init)\n",
       "       20    0.000    0.000    0.000    0.000 configurable.py:121(section_names)\n",
       "     1042    0.000    0.000    0.000    0.000 {built-in method builtins.len}\n",
       "       10    0.000    0.000    0.000    0.000 uuid.py:138(__init__)\n",
       "       44    0.000    0.000    0.000    0.000 threading.py:1113(is_alive)\n",
       "     1245    0.000    0.000    0.000    0.000 {method '__getitem__' of 'dict' objects}\n",
       "      672    0.000    0.000    0.000    0.000 {method 'get' of 'mappingproxy' objects}\n",
       "       68    0.000    0.000    0.000    0.000 hmac.py:111(update)\n",
       "       18    0.000    0.000    0.000    0.000 traitlets.py:1431(set_trait)\n",
       "       31    0.000    0.000    0.000    0.000 traitlets.py:3006(instance_init)\n",
       "      142    0.000    0.000    0.000    0.000 traitlets.py:1866(_resolve_classes)\n",
       "      356    0.000    0.000    0.000    0.000 {method 'mro' of 'type' objects}\n",
       "        1    0.000    0.000    0.000    0.000 formatters.py:374(lookup)\n",
       "      472    0.000    0.000    0.000    0.000 traitlets.py:210(__init__)\n",
       "        3    0.000    0.000    0.000    0.000 inspect.py:2150(_signature_from_function)\n",
       "       20    0.000    0.000    0.000    0.000 configurable.py:124(<listcomp>)\n",
       "       85    0.000    0.000    0.000    0.000 {method 'update' of '_hashlib.HASH' objects}\n",
       "        2    0.000    0.000    0.000    0.000 inspect.py:1129(getfullargspec)\n",
       "       20    0.000    0.000    0.000    0.000 traitlets.py:1002(instance_init)\n",
       "       17    0.000    0.000    0.000    0.000 hmac.py:147(hexdigest)\n",
       "      472    0.000    0.000    0.000    0.000 traitlets.py:211(__call__)\n",
       "        1    0.000    0.000    0.000    0.000 formatters.py:397(lookup_by_type)\n",
       "       17    0.000    0.000    0.000    0.000 session.py:513(msg_id)\n",
       "       30    0.000    0.000    0.000    0.000 loader.py:212(_is_section_key)\n",
       "       17    0.000    0.000    0.000    0.000 {method 'replace' of 'datetime.datetime' objects}\n",
       "      607    0.000    0.000    0.000    0.000 {method 'items' of 'dict' objects}\n",
       "        8    0.000    0.000    0.000    0.000 threading.py:521(__init__)\n",
       "       20    0.000    0.000    0.000    0.000 traitlets.py:1389(_register_validator)\n",
       "        1    0.000    0.000    0.000    0.000 decorator.py:199(fix)\n",
       "       23    0.000    0.000    0.000    0.000 traitlets.py:2510(validate_elements)\n",
       "     11/8    0.000    0.000    0.000    0.000 widget.py:31(_widget_to_json)\n",
       "      550    0.000    0.000    0.000    0.000 traitlets.py:412(instance_init)\n",
       "       18    0.000    0.000    0.000    0.000 traitlets.py:1180(hold)\n",
       "      335    0.000    0.000    0.000    0.000 traitlets.py:981(__get__)\n",
       "       51    0.000    0.000    0.000    0.000 {method 'copy' of '_hashlib.HASH' objects}\n",
       "       44    0.000    0.000    0.000    0.000 threading.py:1059(_wait_for_tstate_lock)\n",
       "       10    0.000    0.000    0.000    0.000 comm.py:19(_default_kernel)\n",
       "       29    0.000    0.000    0.000    0.000 widget.py:450(model_id)\n",
       "      103    0.000    0.000    0.000    0.000 traitlets.py:2181(validate)\n",
       "        2    0.000    0.000    0.000    0.000 trait_types.py:194(validate)\n",
       "      356    0.000    0.000    0.000    0.000 {method 'index' of 'list' objects}\n",
       "       68    0.000    0.000    0.000    0.000 encoder.py:104(__init__)\n",
       "        1    0.000    0.000    0.000    0.000 inspect.py:1366(getcallargs)\n",
       "       32    0.000    0.000    0.000    0.000 traitlets.py:1268(_add_notifiers)\n",
       "       17    0.000    0.000    0.000    0.000 hmac.py:128(_current)\n",
       "      476    0.000    0.000    0.000    0.000 {built-in method builtins.callable}\n",
       "       20    0.000    0.000    0.000    0.000 loader.py:234(__init__)\n",
       "       17    0.000    0.000    0.000    0.000 {built-in method utcnow}\n",
       "       80    0.000    0.000    0.000    0.000 traitlets.py:1847(validate)\n",
       "        2    0.000    0.000    0.000    0.000 kernelbase.py:140(_parent_header)\n",
       "       14    0.000    0.000    0.000    0.000 traitlets.py:2640(validate_elements)\n",
       "       42    0.000    0.000    0.000    0.000 traitlets.py:184(parse_notifier_name)\n",
       "        1    0.000    0.000    0.000    0.000 inspect.py:3038(bind)\n",
       "       17    0.000    0.000    0.000    0.000 session.py:744(<listcomp>)\n",
       "       95    0.000    0.000    0.000    0.000 {method 'encode' of 'str' objects}\n",
       "      180    0.000    0.000    0.000    0.000 {built-in method builtins.issubclass}\n",
       "        2    0.000    0.000    0.000    0.000 widget.py:197(register_callback)\n",
       "        1    0.000    0.000    0.000    0.000 inspect.py:2907(_bind)\n",
       "      259    0.000    0.000    0.000    0.000 widget.py:699(_trait_to_json)\n",
       "       17    0.000    0.000    0.000    0.000 kernelbase.py:561(get_parent)\n",
       "        2    0.000    0.000    0.000    0.000 {method 'match' of 're.Pattern' objects}\n",
       "       10    0.000    0.000    0.000    0.000 traitlets.py:1357(unobserve)\n",
       "        8    0.000    0.000    0.000    0.000 threading.py:228(__init__)\n",
       "       10    0.000    0.000    0.000    0.000 formatters.py:550(_in_deferred_types)\n",
       "       30    0.000    0.000    0.000    0.000 loader.py:293(__contains__)\n",
       "       18    0.000    0.000    0.000    0.000 {method 'format' of 'str' objects}\n",
       "       15    0.000    0.000    0.000    0.000 configurable.py:554(initialized)\n",
       "        1    0.000    0.000    0.000    0.000 <string>:3(add_numbers)\n",
       "       36    0.000    0.000    0.000    0.000 iostream.py:96(_event_pipe)\n",
       "        1    0.000    0.000    0.000    0.000 {built-in method builtins.print}\n",
       "       43    0.000    0.000    0.000    0.000 {built-in method __new__ of type object at 0x10278fa40}\n",
       "       10    0.000    0.000    0.000    0.000 comm.py:38(_default_topic)\n",
       "       22    0.000    0.000    0.000    0.000 jsonutil.py:136(<listcomp>)\n",
       "        6    0.000    0.000    0.000    0.000 inspect.py:2496(__init__)\n",
       "        2    0.000    0.000    0.000    0.000 iostream.py:500(write)\n",
       "        2    0.000    0.000    0.000    0.000 {built-in method _warnings.warn}\n",
       "       16    0.000    0.000    0.000    0.000 {built-in method _thread.allocate_lock}\n",
       "        3    0.000    0.000    0.000    0.000 inspect.py:2779(__init__)\n",
       "        2    0.000    0.000    0.000    0.000 widget.py:35(<listcomp>)\n",
       "       34    0.000    0.000    0.000    0.000 {method 'replace' of 'str' objects}\n",
       "       17    0.000    0.000    0.000    0.000 {method 'digest' of '_hashlib.HASH' objects}\n",
       "       17    0.000    0.000    0.000    0.000 {method 'hexdigest' of '_hashlib.HASH' objects}\n",
       "       10    0.000    0.000    0.000    0.000 widget.py:398(<listcomp>)\n",
       "        1    0.000    0.000    0.000    0.000 inspect.py:494(unwrap)\n",
       "       10    0.000    0.000    0.000    0.000 uuid.py:333(hex)\n",
       "       12    0.000    0.000    0.000    0.000 abc.py:121(__subclasscheck__)\n",
       "       14    0.000    0.000    0.000    0.000 traitlets.py:2058(validate)\n",
       "       10    0.000    0.000    0.000    0.000 traitlets.py:1281(_remove_notifiers)\n",
       "       15    0.000    0.000    0.000    0.000 configurable.py:510(instance)\n",
       "        4    0.000    0.000    0.000    0.000 interaction.py:131(_yield_abbreviations_for_parameter)\n",
       "       10    0.000    0.000    0.000    0.000 widget.py:314(_call_widget_constructed)\n",
       "       34    0.000    0.000    0.000    0.000 jsonutil.py:31(_ensure_tzinfo)\n",
       "        2    0.000    0.000    0.000    0.000 interaction.py:97(_get_min_max_value)\n",
       "       17    0.000    0.000    0.000    0.000 {built-in method builtins.max}\n",
       "        1    0.000    0.000    0.000    0.000 dir2.py:54(get_real_method)\n",
       "       30    0.000    0.000    0.000    0.000 {method 'startswith' of 'str' objects}\n",
       "       26    0.000    0.000    0.000    0.000 traitlets.py:2257(validate)\n",
       "       17    0.000    0.000    0.000    0.000 session.py:224(extract_header)\n",
       "        2    0.000    0.000    0.000    0.000 getipython.py:17(get_ipython)\n",
       "        6    0.000    0.000    0.000    0.000 trait_types.py:161(validate)\n",
       "        4    0.000    0.000    0.000    0.000 traitlets.py:2964(validate)\n",
       "        2    0.000    0.000    0.000    0.000 widget_int.py:95(_validate_value)\n",
       "       17    0.000    0.000    0.000    0.000 {built-in method builtins.locals}\n",
       "       10    0.000    0.000    0.000    0.000 {built-in method from_bytes}\n",
       "       44    0.000    0.000    0.000    0.000 threading.py:529(is_set)\n",
       "       10    0.000    0.000    0.000    0.000 {built-in method builtins.sorted}\n",
       "        2    0.000    0.000    0.000    0.000 interaction.py:40(show_inline_matplotlib_plots)\n",
       "       44    0.000    0.000    0.000    0.000 {method 'append' of 'collections.deque' objects}\n",
       "        8    0.000    0.000    0.000    0.000 threading.py:256(__enter__)\n",
       "       20    0.000    0.000    0.000    0.000 loader.py:238(_ensure_subconfig)\n",
       "        8    0.000    0.000    0.000    0.000 threading.py:259(__exit__)\n",
       "       12    0.000    0.000    0.000    0.000 {built-in method _abc._abc_subclasscheck}\n",
       "        8    0.000    0.000    0.000    0.000 threading.py:268(_acquire_restore)\n",
       "        1    0.000    0.000    0.000    0.000 inspect.py:2699(apply_defaults)\n",
       "        1    0.000    0.000    0.000    0.000 interaction.py:206(<listcomp>)\n",
       "        4    0.000    0.000    0.000    0.000 {method 'values' of 'mappingproxy' objects}\n",
       "        6    0.000    0.000    0.000    0.000 enum.py:358(__call__)\n",
       "       37    0.000    0.000    0.000    0.000 {method 'pop' of 'dict' objects}\n",
       "       14    0.000    0.000    0.000    0.000 {method 'lower' of 'str' objects}\n",
       "        2    0.000    0.000    0.000    0.000 widget_int.py:103(_validate_min)\n",
       "       19    0.000    0.000    0.000    0.000 {built-in method posix.getpid}\n",
       "        2    0.000    0.000    0.000    0.000 iostream.py:437(_schedule_flush)\n",
       "       30    0.000    0.000    0.000    0.000 {method 'upper' of 'str' objects}\n",
       "        1    0.000    0.000    0.000    0.000 pretty.py:305(_get_mro)\n",
       "       10    0.000    0.000    0.000    0.000 {method 'count' of 'list' objects}\n",
       "       34    0.000    0.000    0.000    0.000 {method 'values' of 'dict' objects}\n",
       "       18    0.000    0.000    0.000    0.000 traitlets.py:1168(compress)\n",
       "        9    0.000    0.000    0.000    0.000 inspect.py:2828(<genexpr>)\n",
       "        8    0.000    0.000    0.000    0.000 threading.py:265(_release_save)\n",
       "       34    0.000    0.000    0.000    0.000 {method 'keys' of 'dict' objects}\n",
       "       10    0.000    0.000    0.000    0.000 traitlets.py:2143(validate)\n",
       "        8    0.000    0.000    0.000    0.000 threading.py:271(_is_owned)\n",
       "       14    0.000    0.000    0.000    0.000 traitlets.py:2008(_validate_bounds)\n",
       "       15    0.000    0.000    0.000    0.000 {method 'update' of 'dict' objects}\n",
       "        6    0.000    0.000    0.000    0.000 inspect.py:159(isfunction)\n",
       "       10    0.000    0.000    0.000    0.000 {method 'remove' of 'list' objects}\n",
       "        1    0.000    0.000    0.000    0.000 inspect.py:2646(args)\n",
       "       30    0.000    0.000    0.000    0.000 {function Config.__contains__ at 0x7fc8c81a2e50}\n",
       "       17    0.000    0.000    0.000    0.000 {method 'copy' of 'dict' objects}\n",
       "        1    0.000    0.000    0.000    0.000 {method 'disable' of '_lsprof.Profiler' objects}\n",
       "        2    0.000    0.000    0.000    0.000 widget_int.py:113(_validate_max)\n",
       "        1    0.000    0.000    0.000    0.000 zmqshell.py:80(_hooks)\n",
       "       16    0.000    0.000    0.000    0.000 inspect.py:2558(kind)\n",
       "        4    0.000    0.000    0.000    0.000 traitlets.py:2971(validate_elements)\n",
       "       17    0.000    0.000    0.000    0.000 tz.py:74(utcoffset)\n",
       "        1    0.000    0.000    0.000    0.000 displaypub.py:43(_validate_data)\n",
       "        2    0.000    0.000    0.000    0.000 valuewidget.py:15(get_interact_value)\n",
       "       16    0.000    0.000    0.000    0.000 inspect.py:2546(name)\n",
       "        1    0.000    0.000    0.000    0.000 inspect.py:2669(kwargs)\n",
       "        2    0.000    0.000    0.000    0.000 <string>:1(<lambda>)\n",
       "        8    0.000    0.000    0.000    0.000 {built-in method _imp.lock_held}\n",
       "        2    0.000    0.000    0.000    0.000 {built-in method builtins.id}\n",
       "        8    0.000    0.000    0.000    0.000 {method '__enter__' of '_thread.lock' objects}\n",
       "        6    0.000    0.000    0.000    0.000 {method 'isidentifier' of 'str' objects}\n",
       "        1    0.000    0.000    0.000    0.000 formatters.py:274(_get_type)\n",
       "        6    0.000    0.000    0.000    0.000 enum.py:670(__new__)\n",
       "        1    0.000    0.000    0.000    0.000 inspect.py:81(ismethod)\n",
       "        7    0.000    0.000    0.000    0.000 inspect.py:2863(parameters)\n",
       "        2    0.000    0.000    0.000    0.000 iostream.py:418(_is_master_process)\n",
       "        2    0.000    0.000    0.000    0.000 {method 'group' of 're.Match' objects}\n",
       "        2    0.000    0.000    0.000    0.000 {built-in method builtins.iter}\n",
       "        8    0.000    0.000    0.000    0.000 {method 'release' of '_thread.lock' objects}\n",
       "        1    0.000    0.000    0.000    0.000 formatters.py:359(_check_return)\n",
       "        8    0.000    0.000    0.000    0.000 {method '__exit__' of '_thread.lock' objects}\n",
       "        1    0.000    0.000    0.000    0.000 {built-in method builtins.min}\n",
       "        1    0.000    0.000    0.000    0.000 inspect.py:2638(__init__)\n",
       "        6    0.000    0.000    0.000    0.000 inspect.py:2550(default)\n",
       "        6    0.000    0.000    0.000    0.000 inspect.py:2554(annotation)\n",
       "        1    0.000    0.000    0.000    0.000 inspect.py:514(_is_wrapper)\n",
       "        3    0.000    0.000    0.000    0.000 {method 'items' of 'mappingproxy' objects}\n",
       "        1    0.000    0.000    0.000    0.000 interaction.py:199(<dictcomp>)\n",
       "        1    0.000    0.000    0.000    0.000 inspect.py:73(isclass)\n",
       "        1    0.000    0.000    0.000    0.000 {built-in method sys.getrecursionlimit}\n",
       "        2    0.000    0.000    0.000    0.000 inspect.py:2867(return_annotation)\n",
       "        1    0.000    0.000    0.000    0.000 jsonutil.py:49(encode_images)"
      ]
     },
     "metadata": {},
     "output_type": "display_data"
    }
   ],
   "source": [
    "%%prun -s cumulative \n",
    "\n",
    "import ipywidgets as widgets\n",
    "\n",
    "def add_numbers(x, y):\n",
    "    return print (x + y)\n",
    "\n",
    "interact = widgets.interactive(add_numbers, x=100, y=100)\n",
    "display(interact)"
   ]
  },
  {
   "cell_type": "code",
   "execution_count": 45,
   "metadata": {},
   "outputs": [],
   "source": [
    "import timeit"
   ]
  },
  {
   "cell_type": "code",
   "execution_count": 47,
   "metadata": {},
   "outputs": [],
   "source": [
    "#import yappi"
   ]
  },
  {
   "cell_type": "code",
   "execution_count": 49,
   "metadata": {},
   "outputs": [],
   "source": [
    "import tracemalloc"
   ]
  },
  {
   "cell_type": "code",
   "execution_count": 50,
   "metadata": {},
   "outputs": [],
   "source": [
    "def get_item(variable, key, default=None):\n",
    "    try:\n",
    "        return variable[key]\n",
    "    except TypeError:\n",
    "        return default\n",
    "    except KeyError:\n",
    "        return default\n",
    "    except IndexError:\n",
    "        return default"
   ]
  },
  {
   "cell_type": "code",
   "execution_count": 51,
   "metadata": {},
   "outputs": [],
   "source": [
    "#sys.exit(0) - срочный выход"
   ]
  },
  {
   "cell_type": "raw",
   "metadata": {},
   "source": [
    "#SQLLight\n",
    "connection = sqlite3.connect('data/web_core_vital.db')\n",
    "cursor = connection.cursor()\n",
    "#Doping EMPLOYEE table if already exists\n",
    "cursor.execute(\"DROP TABLE wcv\")\n",
    "print(\"Table wcv dropped... \")\n",
    "connection = sqlite3.connect('data/web_core_vital.db')\n",
    "cursor = connection.cursor()\n",
    "cursor.execute('''CREATE TABLE IF NOT EXISTS wcv\n",
    "              (appRoute TEXT  NOT NULL,\n",
    "              appState TEXT NOT NULL,\n",
    "              metrika TEXT NOT NULL,\n",
    "              datetimeValue TEXT NOT NULL,\n",
    "              value REAL,\n",
    "              percentile REAL,\n",
    "              interval TEXT,\n",
    "              PRIMARY KEY (appRoute, appState, metrika, datetimeValue)\n",
    "              );''')\n",
    "\n",
    "connection.commit()\n",
    "connection.close()\n",
    "\n",
    "def create_connection(db_file):\n",
    "    conn = None\n",
    "    try:\n",
    "        conn = sqlite3.connect(db_file)\n",
    "    except Error as e:\n",
    "        print(e)\n",
    "\n",
    "    return conn\n",
    "\n",
    "def add_stat_day(conn, stats):\n",
    "    sql = ''' INSERT INTO wcv(appRoute,appState,metrika,datetimeValue,value,percentile,interval)\n",
    "              VALUES(?,?,?,?,?,?,?) '''\n",
    "    cur = conn.cursor()\n",
    "    cur.execute(sql, stats)\n",
    "    conn.commit()\n",
    "    return cur.lastrowid\n",
    "\n",
    "\n",
    "def update_stat_day(conn, stats):\n",
    "\n",
    "    sql = ''' UPDATE wcv\n",
    "              SET value = ? ,\n",
    "                  percentile = ? ,\n",
    "                  interval = ?\n",
    "              WHERE appRoute = ? AND appState = ? AND metrika = ? AND datetimeValue = ?'''\n",
    "    cur = conn.cursor()\n",
    "    cur.execute(sql, stats)\n",
    "    conn.commit()\n",
    "  \n",
    "    \n",
    "def select_all_data(conn):\n",
    "    cur = conn.cursor()\n",
    "    cur.execute(\"SELECT * FROM wcv ORDER BY datetimeValue DESC\")\n",
    "\n",
    "    rows = cur.fetchall()\n",
    "\n",
    "    for row in rows:\n",
    "        print(row)\n",
    "\n",
    "conn = create_connection(database)\n",
    "for row in data_out.itertuples():\n",
    "    #print (row.appRoute, row.appState, row.metrika, row[0], row.value, row.percentile, row.interval)\n",
    "    with conn:\n",
    "        add_stat=(row.appRoute, row.appState, row.metrika, row[0], row.value, row.percentile, row.interval)\n",
    "        update_stat=(row.value, row.percentile, row.interval, row.appRoute, row.appState, row.metrika, row[0]) \n",
    "        try:\n",
    "            stat_id = add_stat_day(conn, add_stat)\n",
    "            #print (stat_id, add_stat)\n",
    "        except:\n",
    "            update_stat_day(conn, update_stat)\n",
    "            #print (\"Update \", update_stat)\n",
    "data_graph=pd.read_sql_query(\"SELECT appRoute, appState, datetimeValue, value FROM wcv WHERE metrika='browser_TTFB_bucket' ORDER BY datetimeValue ASC\", conn)\n",
    "data_graph.set_index('datetimeValue', inplace=True)\n",
    "data_graph[\"value\"] = pd.to_numeric(data_graph[\"value\"], downcast=\"float\")\n",
    "data_graph.groupby(['appRoute', 'appState'])['value'].plot(legend=True, figsize=(19, 7.5))\n",
    "plt.show()"
   ]
  },
  {
   "cell_type": "raw",
   "metadata": {},
   "source": [
    "import telebot\n",
    "token='1152626634:AAGdRLHR2geMGSIab3Fz29bIFnpzoczAAQ4'\n",
    "bot=telebot.TeleBot(token)\n",
    "#@bot.message_handler(commands=['start'])\n",
    "def start_message(message):\n",
    "    bot.send_message(message.chat.id,\"Привет ✌️ \")\n",
    "bot.infinity_poling()"
   ]
  },
  {
   "cell_type": "raw",
   "metadata": {},
   "source": [
    "import telebot\n",
    "\n",
    "MypyBot = telebot.TeleBot(\"1152626634:AAGdRLHR2geMGSIab3Fz29bIFnpzoczAAQ4\")\n",
    "\n",
    "#@MypyBot.message_handler(content_types = ['text'])\n",
    "def replyer(message):\n",
    "    MypyBot.reply_to(message, message.text)\n",
    "\n",
    "MypyBot.polling()"
   ]
  },
  {
   "cell_type": "code",
   "execution_count": 32,
   "metadata": {},
   "outputs": [
    {
     "name": "stdout",
     "output_type": "stream",
     "text": [
      "{'ok': True, 'result': {'message_id': 449, 'from': {'id': 1152626634, 'is_bot': True, 'first_name': 'HelpMos', 'username': 'HelpMos_bot'}, 'chat': {'id': 213040478, 'first_name': 'Сергей', 'last_name': 'Карпович', 'username': 'KarpovichSerg', 'type': 'private'}, 'date': 1657014071, 'text': 'Проверка связи'}}\n"
     ]
    }
   ],
   "source": [
    "import requests\n",
    "TOKEN = \"1152626634:AAGdRLHR2geMGSIab3Fz29bIFnpzoczAAQ4\"\n",
    "CHAT_ID = \"213040478\"\n",
    "text = \"Проверка связи\"\n",
    "url = f\"https://api.telegram.org/bot{TOKEN}/sendMessage?chat_id={CHAT_ID}&text={text}\"\n",
    "#url = f\"https://api.telegram.org/bot{TOKEN}/getUpdates\"\n",
    "r = requests.get(url)\n",
    "print(r.json())"
   ]
  },
  {
   "cell_type": "code",
   "execution_count": null,
   "metadata": {},
   "outputs": [],
   "source": []
  }
 ],
 "metadata": {
  "celltoolbar": "Slideshow",
  "kernelspec": {
   "display_name": "Python 3 (ipykernel)",
   "language": "python",
   "name": "python3"
  },
  "language_info": {
   "codemirror_mode": {
    "name": "ipython",
    "version": 3
   },
   "file_extension": ".py",
   "mimetype": "text/x-python",
   "name": "python",
   "nbconvert_exporter": "python",
   "pygments_lexer": "ipython3",
   "version": "3.9.7"
  }
 },
 "nbformat": 4,
 "nbformat_minor": 4
}
