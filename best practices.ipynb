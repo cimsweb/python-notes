{
 "cells": [
  {
   "cell_type": "code",
   "execution_count": 3,
   "metadata": {},
   "outputs": [],
   "source": [
    "import time\n",
    "import sys\n",
    "import dis"
   ]
  },
  {
   "cell_type": "code",
   "execution_count": 2,
   "metadata": {},
   "outputs": [
    {
     "name": "stdout",
     "output_type": "stream",
     "text": [
      "1: 0.08741402626037598\n"
     ]
    }
   ],
   "source": [
    "start_time = time.time()\n",
    "for x in range(1000000):\n",
    "    x+=1\n",
    "seconds = time.time() - start_time\n",
    "print('1:', seconds)"
   ]
  },
  {
   "cell_type": "code",
   "execution_count": 4,
   "metadata": {},
   "outputs": [
    {
     "name": "stdout",
     "output_type": "stream",
     "text": [
      "1: 8.511543273925781e-05 [1, 2, 0, 0]\n"
     ]
    }
   ],
   "source": [
    "data = [ 1, 2, -4, -3]\n",
    "start_time = time.time()\n",
    "for i in range(len(data)):\n",
    "    if data[i] < 0:\n",
    "        data[i] = 0\n",
    "seconds = time.time() - start_time\n",
    "print('1:', seconds, data)"
   ]
  },
  {
   "cell_type": "code",
   "execution_count": 5,
   "metadata": {},
   "outputs": [
    {
     "name": "stdout",
     "output_type": "stream",
     "text": [
      "1: 8.225440979003906e-05 [1, 2, 0, 0]\n"
     ]
    }
   ],
   "source": [
    "data = [ 1, 2, -4, -3]\n",
    "start_time = time.time()\n",
    "for idx, num in enumerate(data):\n",
    "    if num < 0:\n",
    "        data[idx] = 0\n",
    "seconds = time.time() - start_time\n",
    "print('1:', seconds, data)"
   ]
  },
  {
   "cell_type": "code",
   "execution_count": 6,
   "metadata": {},
   "outputs": [
    {
     "name": "stdout",
     "output_type": "stream",
     "text": [
      "[0, 1, 4, 9, 16, 25, 36, 49, 64, 81]\n",
      "[0, 1, 4, 9, 16, 25, 36, 49, 64, 81]\n"
     ]
    }
   ],
   "source": [
    "squares = []\n",
    "for i in range(10):\n",
    "    squares.append(i*i)\n",
    "    \n",
    "print (squares)\n",
    "#better \n",
    "squares = [i*i for i in range(10)]\n",
    "print (squares)"
   ]
  },
  {
   "cell_type": "code",
   "execution_count": 12,
   "metadata": {},
   "outputs": [
    {
     "name": "stdout",
     "output_type": "stream",
     "text": [
      "[1, 3, 5, 9, 10]\n",
      "[{'name': 'Ben', 'age': 18}, {'name': 'Lisa', 'age': 12}, {'name': 'Max', 'age': 6}]\n"
     ]
    }
   ],
   "source": [
    "data = [3, 5, 1, 10, 9]\n",
    "sorted_data = sorted(data, reverse=False)\n",
    "print (sorted_data)\n",
    "\n",
    "data = [{\"name\": \"Max\", \"age\": 6},\n",
    "       {\"name\": \"Lisa\", \"age\": 12},\n",
    "       {\"name\": \"Ben\", \"age\": 18}]\n",
    "sorted_data = sorted(data, key = lambda x: x[\"age\"], reverse=True)\n",
    "print (sorted_data)"
   ]
  },
  {
   "cell_type": "code",
   "execution_count": 13,
   "metadata": {},
   "outputs": [
    {
     "name": "stdout",
     "output_type": "stream",
     "text": [
      "{1, 2, 3, 4, 5, 6, 7}\n"
     ]
    }
   ],
   "source": [
    "my_list = [1,2,3,3,3,4,4,5,5,5,6,6,6,6,7]\n",
    "my_set=set(my_list)\n",
    "print (my_set)"
   ]
  },
  {
   "cell_type": "code",
   "execution_count": 17,
   "metadata": {},
   "outputs": [
    {
     "name": "stdout",
     "output_type": "stream",
     "text": [
      "49995000\n",
      "87632 bytes\n",
      "49995000\n",
      "128 bytes\n"
     ]
    }
   ],
   "source": [
    "my_list = [i for i in range(10000)]\n",
    "print (sum(my_list))\n",
    "print (sys.getsizeof(my_list), \"bytes\")\n",
    "\n",
    "#better\n",
    "my_gen = (i for i in range(10000))\n",
    "print (sum(my_gen))\n",
    "print (sys.getsizeof(my_gen), \"bytes\")"
   ]
  },
  {
   "cell_type": "code",
   "execution_count": 20,
   "metadata": {},
   "outputs": [
    {
     "name": "stdout",
     "output_type": "stream",
     "text": [
      "0\n",
      "0\n",
      "{'item': 'footbal', 'price': 10.0, 'count': 0}\n"
     ]
    }
   ],
   "source": [
    "my_dict = {\"item\": \"footbal\", \"price\": 10.00}\n",
    "count = my_dict.get(\"count\", 0)\n",
    "print (count)\n",
    "\n",
    "count = my_dict.setdefault(\"count\", 0)\n",
    "print (count)\n",
    "\n",
    "print (my_dict)"
   ]
  },
  {
   "cell_type": "code",
   "execution_count": 32,
   "metadata": {},
   "outputs": [
    {
     "name": "stdout",
     "output_type": "stream",
     "text": [
      "Counter({6: 4, 5: 4, 4: 3, 3: 3, 10: 2, 9: 1, 33: 1})\n",
      "4\n",
      "[(6, 4)]\n",
      "4\n"
     ]
    }
   ],
   "source": [
    "from collections import Counter\n",
    "\n",
    "my_list = [10,10,9,6,6,6,6,5,5,5,5,4,4,4,3,3,3,33]\n",
    "counter = Counter(my_list)\n",
    "\n",
    "print (counter)\n",
    "print (counter[6])\n",
    "\n",
    "most_common = counter.most_common(1)\n",
    "print (most_common)\n",
    "\n",
    "print (most_common[0][1])"
   ]
  },
  {
   "cell_type": "code",
   "execution_count": 1,
   "metadata": {},
   "outputs": [],
   "source": [
    "from typing import Optional"
   ]
  },
  {
   "cell_type": "code",
   "execution_count": 39,
   "metadata": {},
   "outputs": [
    {
     "name": "stdout",
     "output_type": "stream",
     "text": [
      "Hello Serg!\n",
      "10 squared is 100\n"
     ]
    }
   ],
   "source": [
    "name = \"Serg\"\n",
    "my_string = f\"Hello {name}!\"\n",
    "print (my_string)\n",
    "\n",
    "\n",
    "i =10 \n",
    "print (f\"{i} squared is {i*i}\")"
   ]
  },
  {
   "cell_type": "code",
   "execution_count": 40,
   "metadata": {},
   "outputs": [
    {
     "name": "stdout",
     "output_type": "stream",
     "text": [
      "{'name': 'Serg', 'age': 30, 'city': 'Moscow'}\n"
     ]
    }
   ],
   "source": [
    "d1 = {\"name\": \"Serg\", \"age\": 30}\n",
    "d2 = {\"name\": \"Serg\", \"city\": \"Moscow\"}\n",
    "merge_dict = {**d1, **d2}\n",
    "\n",
    "print (merge_dict)"
   ]
  },
  {
   "cell_type": "code",
   "execution_count": 44,
   "metadata": {},
   "outputs": [
    {
     "name": "stdout",
     "output_type": "stream",
     "text": [
      "[[1 2 3]\n",
      " [2 4 6]\n",
      " [3 6 9]]\n",
      "[[1 4 9]\n",
      " [2 2 0]\n",
      " [3 4 3]]\n",
      "[[1 2 3]\n",
      " [4 2 0]\n",
      " [9 6 3]]\n"
     ]
    }
   ],
   "source": [
    "import numpy as np\n",
    "vector_row = np.array([1, 2, 3])\n",
    "vector_column = np.array([[1],\n",
    "                          [2],\n",
    "                          [3]])\n",
    "matrix = np.array([[1, 2, 3],\n",
    "                          [2, 1, 0],\n",
    "                          [3, 2, 1]])\n",
    "v_v = vector_row * vector_column\n",
    "print (v_v)\n",
    "v_m = vector_row * matrix\n",
    "print (v_m)\n",
    "v_c_m = vector_column * matrix\n",
    "print (v_c_m)"
   ]
  },
  {
   "cell_type": "code",
   "execution_count": 6,
   "metadata": {},
   "outputs": [
    {
     "data": {
      "text/plain": [
       "1595235476"
      ]
     },
     "execution_count": 6,
     "metadata": {},
     "output_type": "execute_result"
    }
   ],
   "source": [
    "int(time.time())"
   ]
  },
  {
   "cell_type": "code",
   "execution_count": 3,
   "metadata": {},
   "outputs": [],
   "source": [
    "#https://spacy.io/"
   ]
  },
  {
   "cell_type": "code",
   "execution_count": 52,
   "metadata": {},
   "outputs": [],
   "source": [
    "#https://prodi.gy/docs\n",
    "#http://pythontutor.com/live.html#mode=edit"
   ]
  },
  {
   "cell_type": "markdown",
   "metadata": {},
   "source": [
    "<h2>Python к вершинам местерства</h2>"
   ]
  },
  {
   "cell_type": "code",
   "execution_count": 11,
   "metadata": {},
   "outputs": [],
   "source": [
    "#именованные кортежи\n",
    "from collections import namedtuple\n",
    "City = namedtuple('City', 'name country population coordinates')\n",
    "tokyo = City('Tokyo', 'JP', 36.933, (35.689722, 139.691667))\n",
    "#print (tokyo, '\\n', tokyo.population, tokyo.coordinates)"
   ]
  },
  {
   "cell_type": "raw",
   "metadata": {},
   "source": [
    "#головоломка присваивания A += \n",
    "t = (1, 2, [30, 40])\n",
    "t[2] += [50, 60]\n"
   ]
  },
  {
   "cell_type": "code",
   "execution_count": 19,
   "metadata": {},
   "outputs": [],
   "source": [
    "#t"
   ]
  },
  {
   "cell_type": "code",
   "execution_count": 20,
   "metadata": {},
   "outputs": [],
   "source": [
    "#perf_counter"
   ]
  },
  {
   "cell_type": "raw",
   "metadata": {},
   "source": [
    "#пересчет количества вхождений\n",
    "found = 0 \n",
    "for n in needles:\n",
    "    if n in haystack:\n",
    "        found += 1\n",
    "        \n",
    "\n",
    "found = len(set(needles) & set(haystack))\n",
    "#или \n",
    "found = len(set(needles).intersection(haystack))\n",
    "#dict & set = 0.0003 list = 97.9 - 10 0000 000"
   ]
  },
  {
   "cell_type": "code",
   "execution_count": 21,
   "metadata": {},
   "outputs": [
    {
     "data": {
      "text/plain": [
       "['fig', 'apple', 'cherry', 'banana', 'raspberry', 'strawberry']"
      ]
     },
     "execution_count": 21,
     "metadata": {},
     "output_type": "execute_result"
    }
   ],
   "source": [
    "#функции высшего порядка\n",
    "fruits = ['strawberry', 'fig', 'apple', 'cherry', 'raspberry', 'banana']\n",
    "sorted(fruits, key=len)"
   ]
  },
  {
   "cell_type": "code",
   "execution_count": 30,
   "metadata": {},
   "outputs": [
    {
     "name": "stdout",
     "output_type": "stream",
     "text": [
      "[1, 1, 2, 6, 24, 120]\n",
      "[1, 1, 2, 6, 24, 120]\n",
      "[1, 6, 120]\n",
      "[1, 6, 120]\n",
      "4950\n",
      "4950\n"
     ]
    }
   ],
   "source": [
    "#альтернативы функциям map filter reduce\n",
    "def factorial(n):\n",
    "    '''returns n!'''\n",
    "    return 1 if n < 2 else n*factorial(n-1)\n",
    "fact = factorial\n",
    "print (list(map(fact, range(6))))\n",
    "print ([fact(n) for n in range(6)])\n",
    "print (list(map(factorial, filter(lambda n: n % 2, range(6)))))\n",
    "print ([factorial(n) for n in range(6) if n % 2])\n",
    "\n",
    "from functools import reduce\n",
    "from operator import add\n",
    "print (reduce(add, range(100)))\n",
    "print (sum(range(100)))"
   ]
  },
  {
   "cell_type": "code",
   "execution_count": 35,
   "metadata": {},
   "outputs": [
    {
     "name": "stdout",
     "output_type": "stream",
     "text": [
      "10.0\n",
      "10.5\n",
      "13.666666666666666\n"
     ]
    }
   ],
   "source": [
    "#замыкания\n",
    "def make_averager():\n",
    "    series = []\n",
    "    def averager(new_value):\n",
    "        series.append(new_value)\n",
    "        total = sum(series)\n",
    "        return total/len(series)\n",
    "    return averager\n",
    "\n",
    "avg = make_averager()\n",
    "print (avg(10))\n",
    "print (avg(11))\n",
    "print (avg(20))\n",
    "\n"
   ]
  },
  {
   "cell_type": "code",
   "execution_count": 36,
   "metadata": {},
   "outputs": [
    {
     "name": "stdout",
     "output_type": "stream",
     "text": [
      "10.0\n",
      "10.5\n",
      "13.666666666666666\n"
     ]
    }
   ],
   "source": [
    "#вычисление накопительного среднего без хранения всей истории\n",
    "def make_averager():\n",
    "    count = 0\n",
    "    total = 0\n",
    "    def averager(new_value):\n",
    "        nonlocal count, total\n",
    "        count += 1\n",
    "        total += new_value\n",
    "        return total/count\n",
    "    return averager\n",
    "\n",
    "avg = make_averager()\n",
    "print (avg(10))\n",
    "print (avg(11))\n",
    "print (avg(20))"
   ]
  },
  {
   "cell_type": "code",
   "execution_count": 51,
   "metadata": {},
   "outputs": [
    {
     "name": "stdout",
     "output_type": "stream",
     "text": [
      "******************** Calling snooze(.123)\n",
      "[0.12651968s] snooze(0.123) -> None\n",
      "******************** Calling factorial(6)\n",
      "[0.00000061s] factorial(1) -> 1\n",
      "[0.00002937s] factorial(2) -> 2\n",
      "[0.00007076s] factorial(3) -> 6\n",
      "[0.00010036s] factorial(4) -> 24\n",
      "[0.00012178s] factorial(5) -> 120\n",
      "[0.00014415s] factorial(6) -> 720\n",
      "6! = 720\n"
     ]
    }
   ],
   "source": [
    "#простой декоратор, для вывода времени выполнения функции\n",
    "import time\n",
    "\n",
    "def clock(func):\n",
    "    def clocked(*args):\n",
    "        t0 = time.perf_counter()\n",
    "        result = func(*args)\n",
    "        elapsed = time.perf_counter() - t0\n",
    "        name = func.__name__\n",
    "        arg_str = ', '.join(repr(arg) for arg in args)\n",
    "        print ('[%0.8fs] %s(%s) -> %r' % (elapsed, name, arg_str, result))\n",
    "        return result\n",
    "    return clocked\n",
    "\n",
    "@clock\n",
    "def snooze(seconds):\n",
    "    time.sleep(seconds)\n",
    "    \n",
    "@clock\n",
    "def factorial(n):\n",
    "    return 1 if n < 2 else n*factorial(n-1)\n",
    "\n",
    "if __name__=='__main__':\n",
    "    print ('*' * 20, 'Calling snooze(.123)')\n",
    "    snooze(.123)\n",
    "    print ('*' * 20, 'Calling factorial(6)')\n",
    "    print ('6! =', factorial(6))"
   ]
  },
  {
   "cell_type": "code",
   "execution_count": 46,
   "metadata": {},
   "outputs": [
    {
     "name": "stdout",
     "output_type": "stream",
     "text": [
      "[0.12314510s] snooze(0.123) -> None\n",
      "[0.12303209s] snooze(0.123) -> None\n",
      "[0.12334633s] snooze(0.123) -> None\n",
      "snooze(0.123) dt=0.127s\n",
      "snooze(0.123) dt=0.127s\n",
      "snooze(0.123) dt=0.127s\n"
     ]
    }
   ],
   "source": [
    "#параметризированный декоратор cloc\n",
    "import time\n",
    "\n",
    "DEFAULT_FMT = '[{elapsed:0.8f}s] {name}({args}) -> {result}'\n",
    "\n",
    "\n",
    "def clock(fmt=DEFAULT_FMT):\n",
    "    def decorate(func):\n",
    "        def clocked(*_args):\n",
    "            t0 = time.time()\n",
    "            _result = func(*_args)\n",
    "            elapsed = time.time() - t0\n",
    "            name = func.__name__\n",
    "            args = ', '.join(repr(arg) for arg in _args)\n",
    "            result = repr(_result)\n",
    "            print (fmt.format(**locals()))\n",
    "            return _result\n",
    "        return clocked\n",
    "    return decorate\n",
    "\n",
    "\n",
    "if __name__=='__main__':\n",
    "    @clock()\n",
    "    def snooze(seconds):\n",
    "        time.sleep(seconds)\n",
    "    \n",
    "    for i in range(3):\n",
    "        snooze(.123)\n",
    "@clock('{name}({args}) dt={elapsed:0.3f}s')\n",
    "def snooze(seconds):\n",
    "    time.sleep(seconds)\n",
    "\n",
    "for i in range(3):\n",
    "    snooze(.123)\n"
   ]
  },
  {
   "cell_type": "code",
   "execution_count": 47,
   "metadata": {},
   "outputs": [
    {
     "name": "stdout",
     "output_type": "stream",
     "text": [
      "start\n",
      "---> A\n",
      "continue\n",
      "---> B\n",
      "end\n"
     ]
    }
   ],
   "source": [
    "#генераторная функция печатующая сообщения во время выполнения\n",
    "def gen_AB():\n",
    "    print ('start')\n",
    "    yield 'A'\n",
    "    print ('continue')\n",
    "    yield 'B'\n",
    "    print ('end')\n",
    "    \n",
    "for c in gen_AB():\n",
    "    print ('--->', c)"
   ]
  },
  {
   "cell_type": "code",
   "execution_count": null,
   "metadata": {},
   "outputs": [],
   "source": []
  }
 ],
 "metadata": {
  "kernelspec": {
   "display_name": "Python 3",
   "language": "python",
   "name": "python3"
  },
  "language_info": {
   "codemirror_mode": {
    "name": "ipython",
    "version": 3
   },
   "file_extension": ".py",
   "mimetype": "text/x-python",
   "name": "python",
   "nbconvert_exporter": "python",
   "pygments_lexer": "ipython3",
   "version": "3.7.7"
  }
 },
 "nbformat": 4,
 "nbformat_minor": 4
}
