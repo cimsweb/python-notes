{
 "cells": [
  {
   "cell_type": "code",
   "execution_count": 41,
   "metadata": {},
   "outputs": [],
   "source": [
    "import time\n",
    "import sys\n",
    "import dis"
   ]
  },
  {
   "cell_type": "code",
   "execution_count": 2,
   "metadata": {},
   "outputs": [
    {
     "name": "stdout",
     "output_type": "stream",
     "text": [
      "1: 0.08741402626037598\n"
     ]
    }
   ],
   "source": [
    "start_time = time.time()\n",
    "for x in range(1000000):\n",
    "    x+=1\n",
    "seconds = time.time() - start_time\n",
    "print('1:', seconds)"
   ]
  },
  {
   "cell_type": "code",
   "execution_count": 4,
   "metadata": {},
   "outputs": [
    {
     "name": "stdout",
     "output_type": "stream",
     "text": [
      "1: 8.511543273925781e-05 [1, 2, 0, 0]\n"
     ]
    }
   ],
   "source": [
    "data = [ 1, 2, -4, -3]\n",
    "start_time = time.time()\n",
    "for i in range(len(data)):\n",
    "    if data[i] < 0:\n",
    "        data[i] = 0\n",
    "seconds = time.time() - start_time\n",
    "print('1:', seconds, data)"
   ]
  },
  {
   "cell_type": "code",
   "execution_count": 5,
   "metadata": {},
   "outputs": [
    {
     "name": "stdout",
     "output_type": "stream",
     "text": [
      "1: 8.225440979003906e-05 [1, 2, 0, 0]\n"
     ]
    }
   ],
   "source": [
    "data = [ 1, 2, -4, -3]\n",
    "start_time = time.time()\n",
    "for idx, num in enumerate(data):\n",
    "    if num < 0:\n",
    "        data[idx] = 0\n",
    "seconds = time.time() - start_time\n",
    "print('1:', seconds, data)"
   ]
  },
  {
   "cell_type": "code",
   "execution_count": 6,
   "metadata": {},
   "outputs": [
    {
     "name": "stdout",
     "output_type": "stream",
     "text": [
      "[0, 1, 4, 9, 16, 25, 36, 49, 64, 81]\n",
      "[0, 1, 4, 9, 16, 25, 36, 49, 64, 81]\n"
     ]
    }
   ],
   "source": [
    "squares = []\n",
    "for i in range(10):\n",
    "    squares.append(i*i)\n",
    "    \n",
    "print (squares)\n",
    "#better \n",
    "squares = [i*i for i in range(10)]\n",
    "print (squares)"
   ]
  },
  {
   "cell_type": "code",
   "execution_count": 12,
   "metadata": {},
   "outputs": [
    {
     "name": "stdout",
     "output_type": "stream",
     "text": [
      "[1, 3, 5, 9, 10]\n",
      "[{'name': 'Ben', 'age': 18}, {'name': 'Lisa', 'age': 12}, {'name': 'Max', 'age': 6}]\n"
     ]
    }
   ],
   "source": [
    "data = [3, 5, 1, 10, 9]\n",
    "sorted_data = sorted(data, reverse=False)\n",
    "print (sorted_data)\n",
    "\n",
    "data = [{\"name\": \"Max\", \"age\": 6},\n",
    "       {\"name\": \"Lisa\", \"age\": 12},\n",
    "       {\"name\": \"Ben\", \"age\": 18}]\n",
    "sorted_data = sorted(data, key = lambda x: x[\"age\"], reverse=True)\n",
    "print (sorted_data)"
   ]
  },
  {
   "cell_type": "code",
   "execution_count": 13,
   "metadata": {},
   "outputs": [
    {
     "name": "stdout",
     "output_type": "stream",
     "text": [
      "{1, 2, 3, 4, 5, 6, 7}\n"
     ]
    }
   ],
   "source": [
    "my_list = [1,2,3,3,3,4,4,5,5,5,6,6,6,6,7]\n",
    "my_set=set(my_list)\n",
    "print (my_set)"
   ]
  },
  {
   "cell_type": "code",
   "execution_count": 17,
   "metadata": {},
   "outputs": [
    {
     "name": "stdout",
     "output_type": "stream",
     "text": [
      "49995000\n",
      "87632 bytes\n",
      "49995000\n",
      "128 bytes\n"
     ]
    }
   ],
   "source": [
    "my_list = [i for i in range(10000)]\n",
    "print (sum(my_list))\n",
    "print (sys.getsizeof(my_list), \"bytes\")\n",
    "\n",
    "#better\n",
    "my_gen = (i for i in range(10000))\n",
    "print (sum(my_gen))\n",
    "print (sys.getsizeof(my_gen), \"bytes\")"
   ]
  },
  {
   "cell_type": "code",
   "execution_count": 20,
   "metadata": {},
   "outputs": [
    {
     "name": "stdout",
     "output_type": "stream",
     "text": [
      "0\n",
      "0\n",
      "{'item': 'footbal', 'price': 10.0, 'count': 0}\n"
     ]
    }
   ],
   "source": [
    "my_dict = {\"item\": \"footbal\", \"price\": 10.00}\n",
    "count = my_dict.get(\"count\", 0)\n",
    "print (count)\n",
    "\n",
    "count = my_dict.setdefault(\"count\", 0)\n",
    "print (count)\n",
    "\n",
    "print (my_dict)"
   ]
  },
  {
   "cell_type": "code",
   "execution_count": 32,
   "metadata": {},
   "outputs": [
    {
     "name": "stdout",
     "output_type": "stream",
     "text": [
      "Counter({6: 4, 5: 4, 4: 3, 3: 3, 10: 2, 9: 1, 33: 1})\n",
      "4\n",
      "[(6, 4)]\n",
      "4\n"
     ]
    }
   ],
   "source": [
    "from collections import Counter\n",
    "\n",
    "my_list = [10,10,9,6,6,6,6,5,5,5,5,4,4,4,3,3,3,33]\n",
    "counter = Counter(my_list)\n",
    "\n",
    "print (counter)\n",
    "print (counter[6])\n",
    "\n",
    "most_common = counter.most_common(1)\n",
    "print (most_common)\n",
    "\n",
    "print (most_common[0][1])"
   ]
  },
  {
   "cell_type": "code",
   "execution_count": 39,
   "metadata": {},
   "outputs": [
    {
     "name": "stdout",
     "output_type": "stream",
     "text": [
      "Hello Serg!\n",
      "10 squared is 100\n"
     ]
    }
   ],
   "source": [
    "name = \"Serg\"\n",
    "my_string = f\"Hello {name}!\"\n",
    "print (my_string)\n",
    "\n",
    "\n",
    "i =10 \n",
    "print (f\"{i} squared is {i*i}\")"
   ]
  },
  {
   "cell_type": "code",
   "execution_count": 40,
   "metadata": {},
   "outputs": [
    {
     "name": "stdout",
     "output_type": "stream",
     "text": [
      "{'name': 'Serg', 'age': 30, 'city': 'Moscow'}\n"
     ]
    }
   ],
   "source": [
    "d1 = {\"name\": \"Serg\", \"age\": 30}\n",
    "d2 = {\"name\": \"Serg\", \"city\": \"Moscow\"}\n",
    "merge_dict = {**d1, **d2}\n",
    "\n",
    "print (merge_dict)"
   ]
  },
  {
   "cell_type": "code",
   "execution_count": 44,
   "metadata": {},
   "outputs": [
    {
     "name": "stdout",
     "output_type": "stream",
     "text": [
      "[[1 2 3]\n",
      " [2 4 6]\n",
      " [3 6 9]]\n",
      "[[1 4 9]\n",
      " [2 2 0]\n",
      " [3 4 3]]\n",
      "[[1 2 3]\n",
      " [4 2 0]\n",
      " [9 6 3]]\n"
     ]
    }
   ],
   "source": [
    "import numpy as np\n",
    "vector_row = np.array([1, 2, 3])\n",
    "vector_column = np.array([[1],\n",
    "                          [2],\n",
    "                          [3]])\n",
    "matrix = np.array([[1, 2, 3],\n",
    "                          [2, 1, 0],\n",
    "                          [3, 2, 1]])\n",
    "v_v = vector_row * vector_column\n",
    "print (v_v)\n",
    "v_m = vector_row * matrix\n",
    "print (v_m)\n",
    "v_c_m = vector_column * matrix\n",
    "print (v_c_m)"
   ]
  },
  {
   "cell_type": "code",
   "execution_count": null,
   "metadata": {},
   "outputs": [],
   "source": []
  }
 ],
 "metadata": {
  "kernelspec": {
   "display_name": "Python 3",
   "language": "python",
   "name": "python3"
  },
  "language_info": {
   "codemirror_mode": {
    "name": "ipython",
    "version": 3
   },
   "file_extension": ".py",
   "mimetype": "text/x-python",
   "name": "python",
   "nbconvert_exporter": "python",
   "pygments_lexer": "ipython3",
   "version": "3.7.7"
  }
 },
 "nbformat": 4,
 "nbformat_minor": 4
}
